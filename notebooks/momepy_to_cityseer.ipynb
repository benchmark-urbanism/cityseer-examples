{
 "cells": [
  {
   "cell_type": "code",
   "execution_count": 1,
   "metadata": {},
   "outputs": [],
   "source": [
    "from __future__ import annotations\n",
    "\n",
    "import geopandas as gpd\n",
    "from osmnx import features\n",
    "\n",
    "from cityseer.tools import io, graphs\n",
    "from cityseer.metrics import networks, layers"
   ]
  },
  {
   "cell_type": "markdown",
   "metadata": {},
   "source": [
    "This example uses the `momepy` `bubenec.gpkg` GeoPandas GeoDataFrame as an example. Please download this file and place it in a locally accessible file. Update the filepaths in the next code block accordingly.\n"
   ]
  },
  {
   "cell_type": "code",
   "execution_count": 2,
   "metadata": {},
   "outputs": [
    {
     "ename": "ValueError",
     "evalue": "Please check your notebook working directory relative to your project and data paths.",
     "output_type": "error",
     "traceback": [
      "\u001b[0;31m---------------------------------------------------------------------------\u001b[0m",
      "\u001b[0;31mValueError\u001b[0m                                Traceback (most recent call last)",
      "\u001b[1;32m/Users/gareth/dev/benchmark-urbanism/cityseer-examples/notebooks/momepy_to_cityseer.ipynb Cell 3\u001b[0m line \u001b[0;36m7\n\u001b[1;32m      <a href='vscode-notebook-cell:/Users/gareth/dev/benchmark-urbanism/cityseer-examples/notebooks/momepy_to_cityseer.ipynb#W2sZmlsZQ%3D%3D?line=4'>5</a>\u001b[0m     repo_path \u001b[39m=\u001b[39m Path\u001b[39m.\u001b[39mcwd() \u001b[39m/\u001b[39m \u001b[39m\"\u001b[39m\u001b[39m..\u001b[39m\u001b[39m\"\u001b[39m\n\u001b[1;32m      <a href='vscode-notebook-cell:/Users/gareth/dev/benchmark-urbanism/cityseer-examples/notebooks/momepy_to_cityseer.ipynb#W2sZmlsZQ%3D%3D?line=5'>6</a>\u001b[0m \u001b[39mif\u001b[39;00m \u001b[39mnot\u001b[39;00m \u001b[39mstr\u001b[39m(repo_path\u001b[39m.\u001b[39mresolve())\u001b[39m.\u001b[39mendswith(\u001b[39m\"\u001b[39m\u001b[39mcityseer-api\u001b[39m\u001b[39m\"\u001b[39m):\n\u001b[0;32m----> <a href='vscode-notebook-cell:/Users/gareth/dev/benchmark-urbanism/cityseer-examples/notebooks/momepy_to_cityseer.ipynb#W2sZmlsZQ%3D%3D?line=6'>7</a>\u001b[0m     \u001b[39mraise\u001b[39;00m \u001b[39mValueError\u001b[39;00m(\u001b[39m\"\u001b[39m\u001b[39mPlease check your notebook working directory relative to your project and data paths.\u001b[39m\u001b[39m\"\u001b[39m)\n\u001b[1;32m      <a href='vscode-notebook-cell:/Users/gareth/dev/benchmark-urbanism/cityseer-examples/notebooks/momepy_to_cityseer.ipynb#W2sZmlsZQ%3D%3D?line=8'>9</a>\u001b[0m bubenec_path \u001b[39m=\u001b[39m Path(repo_path \u001b[39m/\u001b[39m \u001b[39m\"\u001b[39m\u001b[39mtemp/bubenec.gpkg\u001b[39m\u001b[39m\"\u001b[39m)\n\u001b[1;32m     <a href='vscode-notebook-cell:/Users/gareth/dev/benchmark-urbanism/cityseer-examples/notebooks/momepy_to_cityseer.ipynb#W2sZmlsZQ%3D%3D?line=9'>10</a>\u001b[0m \u001b[39mprint\u001b[39m(\u001b[39m\"\u001b[39m\u001b[39mdata path:\u001b[39m\u001b[39m\"\u001b[39m, bubenec_path)\n",
      "\u001b[0;31mValueError\u001b[0m: Please check your notebook working directory relative to your project and data paths."
     ]
    }
   ],
   "source": [
    "from pathlib import Path\n",
    "\n",
    "repo_path = Path.cwd()\n",
    "if str(repo_path).endswith(\"notebooks\"):\n",
    "    repo_path = Path.cwd() / \"..\"\n",
    "if not str(repo_path.resolve()).endswith(\"cityseer-examples\"):\n",
    "    raise ValueError(\n",
    "        \"Please check your notebook working directory relative to your project and data paths.\"\n",
    "    )\n",
    "\n",
    "bubenec_path = Path(repo_path / \"temp/bubenec.gpkg\")\n",
    "print(\"data path:\", bubenec_path)\n",
    "print(\"path exists:\", bubenec_path.exists())\n",
    "\n",
    "df_streets: gpd.GeoDataFrame = gpd.read_file(bubenec_path, layer=\"streets\")  # type: ignore\n",
    "nx_momepy = io.nx_from_generic_geopandas(df_streets)"
   ]
  },
  {
   "cell_type": "markdown",
   "metadata": {},
   "source": [
    "At this point the input GeoPandas file has been converted to a `networkX` `MultiGraph` with `geom` attributes for the edges. This graph can now be fed to `cityseer` `graph` module methods if wanted.\n",
    "For running optimised network centrality or landuse accessibilities, use the `io.network_structure_from_nx` method to prepare the necessary structures.\n"
   ]
  },
  {
   "cell_type": "code",
   "execution_count": null,
   "metadata": {},
   "outputs": [],
   "source": [
    "nodes_gdf, edges_gdf, network_structure = io.network_structure_from_nx(\n",
    "    nx_momepy, crs=df_streets.crs.to_epsg()\n",
    ")"
   ]
  },
  {
   "cell_type": "markdown",
   "metadata": {},
   "source": [
    "The following block downloads some OSM data which will be used for demonstrating some landuse accessibility methods.\n"
   ]
  },
  {
   "cell_type": "code",
   "execution_count": null,
   "metadata": {},
   "outputs": [],
   "source": [
    "nodes_gdf.head()"
   ]
  },
  {
   "cell_type": "code",
   "execution_count": null,
   "metadata": {},
   "outputs": [],
   "source": [
    "edges_gdf.head(3)"
   ]
  },
  {
   "cell_type": "code",
   "execution_count": null,
   "metadata": {},
   "outputs": [],
   "source": [
    "data_gdf = features.features_from_point(\n",
    "    (50.1029248, 14.4029967), tags={\"amenity\": [\"pub\", \"restaurant\"]}, dist=400\n",
    ")\n",
    "data_gdf.to_crs(3857, inplace=True)\n",
    "data_gdf = data_gdf.loc[\"node\"]\n",
    "data_gdf = data_gdf.reset_index(level=0, drop=True)\n",
    "data_gdf.index = data_gdf.index.astype(str)\n",
    "data_gdf = data_gdf[[\"amenity\", \"geometry\"]]\n",
    "print(data_gdf.head())"
   ]
  },
  {
   "cell_type": "code",
   "execution_count": null,
   "metadata": {},
   "outputs": [],
   "source": [
    "# compute metrics\n",
    "nodes_gdf = networks.node_centrality_shortest(\n",
    "    network_structure, nodes_gdf, [250, 500, 1000]\n",
    ")\n",
    "nodes_gdf, data_gdf = layers.compute_accessibilities(\n",
    "    data_gdf,\n",
    "    landuse_column_label=\"amenity\",\n",
    "    accessibility_keys=[\"restaurant\"],\n",
    "    nodes_gdf=nodes_gdf,\n",
    "    network_structure=network_structure,\n",
    "    distances=[100, 200, 400],\n",
    ")\n",
    "nodes_gdf.head()"
   ]
  },
  {
   "cell_type": "code",
   "execution_count": null,
   "metadata": {},
   "outputs": [],
   "source": [
    "# if using dual network\n",
    "nx_dual = graphs.nx_to_dual(nx_momepy)\n",
    "nodes_gdf_dual, _edges_gdf_dual, network_structure_dual = io.network_structure_from_nx(\n",
    "    nx_dual, df_streets.crs.to_epsg()\n",
    ")\n",
    "nodes_gdf_dual = networks.node_centrality_simplest(\n",
    "    network_structure_dual, nodes_gdf_dual, [500]\n",
    ")\n",
    "nodes_gdf_dual.head()"
   ]
  }
 ],
 "metadata": {
  "kernelspec": {
   "display_name": ".venv",
   "language": "python",
   "name": "python3"
  },
  "language_info": {
   "codemirror_mode": {
    "name": "ipython",
    "version": 3
   },
   "file_extension": ".py",
   "mimetype": "text/x-python",
   "name": "python",
   "nbconvert_exporter": "python",
   "pygments_lexer": "ipython3",
   "version": "3.11.6"
  },
  "orig_nbformat": 4
 },
 "nbformat": 4,
 "nbformat_minor": 2
}
