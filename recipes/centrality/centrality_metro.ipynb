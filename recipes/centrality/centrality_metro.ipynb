{
  "cells": [
    {
      "cell_type": "code",
      "execution_count": null,
      "metadata": {},
      "outputs": [],
      "source": [
        "import geopandas as gpd\n",
        "import matplotlib.pyplot as plt\n",
        "from cityseer.metrics import networks\n",
        "from cityseer.tools import graphs, io\n",
        "\n",
        "streets_gpd = gpd.read_file(\"data/madrid_streets/street_network.gpkg\")\n",
        "streets_gpd = streets_gpd.explode(reset_index=True)\n",
        "G = io.nx_from_generic_geopandas(streets_gpd)\n",
        "G_dual = graphs.nx_to_dual(G)"
      ]
    },
    {
      "cell_type": "code",
      "execution_count": null,
      "metadata": {},
      "outputs": [],
      "source": [
        "# prepare the data structures\n",
        "nodes_gdf, edges_gdf, network_structure = io.network_structure_from_nx(G_dual)"
      ]
    },
    {
      "cell_type": "code",
      "execution_count": null,
      "metadata": {},
      "outputs": [],
      "source": [
        "distances = [500, 2000, 5000]\n",
        "nodes_gdf = networks.node_centrality_shortest(\n",
        "    network_structure=network_structure,\n",
        "    nodes_gdf=nodes_gdf,\n",
        "    distances=distances,\n",
        ")\n",
        "for col in nodes_gdf.columns:\n",
        "    if col.startswith(\"cc_\"):\n",
        "        nodes_gdf[f\"{col}_not\"] = nodes_gdf[col]"
      ]
    },
    {
      "cell_type": "code",
      "execution_count": null,
      "metadata": {},
      "outputs": [],
      "source": [
        "nodes_gdf, edges_gdf, network_structure, stops, avg_stop_pairs = io.add_transport_gtfs(\n",
        "    \"data/madrid_gtfs/madrid_metro\",\n",
        "    nodes_gdf,\n",
        "    edges_gdf,\n",
        "    network_structure,\n",
        ")\n"
      ]
    },
    {
      "cell_type": "code",
      "execution_count": null,
      "metadata": {},
      "outputs": [],
      "source": [
        "stops"
      ]
    },
    {
      "cell_type": "code",
      "execution_count": null,
      "metadata": {},
      "outputs": [],
      "source": [
        "# convert stops to geopandas\n",
        "stops_gdf = gpd.GeoDataFrame(\n",
        "    stops,\n",
        "    geometry=gpd.points_from_xy(stops[\"stop_lon\"], stops[\"stop_lat\"]),\n",
        "    crs=4326,  # Adjust the CRS to suit your data if needed\n",
        ")\n",
        "stops_gdf = stops_gdf.to_crs(streets_gpd.crs.to_epsg())\n",
        "stops_gdf"
      ]
    },
    {
      "cell_type": "code",
      "execution_count": null,
      "metadata": {},
      "outputs": [],
      "source": [
        "stops.avg_wait_time.describe()\n",
        "# count nan\n",
        "stops.avg_wait_time.isna().sum()\n",
        "# impute"
      ]
    },
    {
      "cell_type": "code",
      "execution_count": null,
      "metadata": {},
      "outputs": [],
      "source": [
        "avg_stop_pairs"
      ]
    },
    {
      "cell_type": "markdown",
      "metadata": {},
      "source": [
        "## Calculate centralities\n",
        "\n",
        "The centrality methods can now be computed.\n"
      ]
    },
    {
      "cell_type": "code",
      "execution_count": null,
      "metadata": {},
      "outputs": [],
      "source": [
        "distances = [500, 2000, 5000]\n",
        "nodes_gdf = networks.node_centrality_shortest(\n",
        "    network_structure=network_structure,\n",
        "    nodes_gdf=nodes_gdf,\n",
        "    distances=distances,\n",
        ")"
      ]
    },
    {
      "cell_type": "code",
      "execution_count": null,
      "metadata": {},
      "outputs": [],
      "source": [
        "nodes_gdf.columns"
      ]
    },
    {
      "cell_type": "markdown",
      "metadata": {},
      "source": [
        "## Plots\n",
        "\n",
        "Let's plot a selection of distance thresholds for each of the computed measures.\n"
      ]
    },
    {
      "cell_type": "code",
      "execution_count": null,
      "metadata": {},
      "outputs": [],
      "source": [
        "import matplotlib.colors as colors\n",
        "\n",
        "fig, axes = plt.subplots(2, 1, figsize=(8, 12), facecolor=\"#1d1d1d\")\n",
        "fig.suptitle(\n",
        "    \"Shortest path centrality\",\n",
        "    fontsize=10,\n",
        "    color=\"#ddd\",\n",
        ")\n",
        "\n",
        "nodes_gdf.plot(\n",
        "    column=\"cc_harmonic_2000\",\n",
        "    cmap=\"magma\",\n",
        "    legend=False,\n",
        "    ax=axes[0],\n",
        ")\n",
        "axes[0].set_title(\n",
        "    \"Harmonic closeness centrality\",\n",
        "    fontsize=8,\n",
        "    color=\"#ddd\",\n",
        ")\n",
        "stops_gdf.plot(ax=axes[0], color=\"red\", markersize=1)\n",
        "\n",
        "nodes_gdf.plot(\n",
        "    column=\"cc_betweenness_2000\",\n",
        "    cmap=\"magma\",\n",
        "    norm=colors.LogNorm(),  # Apply log normalization\n",
        "    legend=False,\n",
        "    ax=axes[1],\n",
        ")\n",
        "axes[1].set_title(\n",
        "    \"Betweenness centrality\",\n",
        "    fontsize=8,\n",
        "    color=\"#ddd\",\n",
        ")\n",
        "stops_gdf.plot(ax=axes[1], color=\"red\", markersize=1)\n",
        "\n",
        "for ax in axes:\n",
        "    ax.set_xlim(438500, 438500 + 3500)\n",
        "    ax.set_ylim(4472500, 4472500 + 3500)\n",
        "    ax.axis(False)\n",
        "\n",
        "plt.tight_layout()"
      ]
    },
    {
      "cell_type": "code",
      "execution_count": null,
      "metadata": {},
      "outputs": [],
      "source": [
        "nodes_gdf[\"cc_harmonic_2000_diff\"] = (\n",
        "    nodes_gdf[\"cc_harmonic_2000\"] - nodes_gdf[\"cc_harmonic_2000_not\"]\n",
        ")\n",
        "nodes_gdf[\"cc_betweenness_2000_diff\"] = (\n",
        "    nodes_gdf[\"cc_betweenness_2000\"] - nodes_gdf[\"cc_betweenness_2000_not\"]\n",
        ")"
      ]
    },
    {
      "cell_type": "code",
      "execution_count": null,
      "metadata": {},
      "outputs": [],
      "source": [
        "fig, axes = plt.subplots(2, 1, figsize=(8, 12), facecolor=\"#1d1d1d\")\n",
        "fig.suptitle(\n",
        "    \"Shortest path centrality\",\n",
        "    fontsize=10,\n",
        "    color=\"#ddd\",\n",
        ")\n",
        "\n",
        "nodes_gdf.plot(\n",
        "    column=\"cc_harmonic_2000_diff\",\n",
        "    cmap=\"viridis\",\n",
        "    legend=False,\n",
        "    ax=axes[0],\n",
        ")\n",
        "axes[0].set_title(\n",
        "    \"Harmonic closeness centrality\",\n",
        "    fontsize=8,\n",
        "    color=\"#ddd\",\n",
        ")\n",
        "stops_gdf.plot(ax=axes[0], color=\"red\", markersize=1)\n",
        "\n",
        "nodes_gdf.plot(\n",
        "    column=\"cc_betweenness_2000_diff\",\n",
        "    cmap=\"viridis\",\n",
        "    norm=colors.LogNorm(),  # Apply log normalization\n",
        "    legend=False,\n",
        "    ax=axes[1],\n",
        ")\n",
        "axes[1].set_title(\n",
        "    \"Betweenness centrality\",\n",
        "    fontsize=8,\n",
        "    color=\"#ddd\",\n",
        ")\n",
        "stops_gdf.plot(ax=axes[1], color=\"red\", markersize=1)\n",
        "\n",
        "for ax in axes:\n",
        "    ax.set_xlim(438500, 438500 + 3500)\n",
        "    ax.set_ylim(4472500, 4472500 + 3500)\n",
        "    ax.axis(False)\n",
        "\n",
        "plt.tight_layout()"
      ]
    }
  ],
  "metadata": {
    "kernelspec": {
      "display_name": ".venv",
      "language": "python",
      "name": "python3"
    },
    "language_info": {
      "codemirror_mode": {
        "name": "ipython",
        "version": 3
      },
      "file_extension": ".py",
      "mimetype": "text/x-python",
      "name": "python",
      "nbconvert_exporter": "python",
      "pygments_lexer": "ipython3",
      "version": "3.12.9"
    },
    "orig_nbformat": 4
  },
  "nbformat": 4,
  "nbformat_minor": 2
}
