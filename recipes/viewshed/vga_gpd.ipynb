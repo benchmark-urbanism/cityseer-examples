{
 "cells": [
  {
   "cell_type": "markdown",
   "id": "f2b2c465",
   "metadata": {},
   "source": [
    "# VGA from GeoPandas data\n",
    "\n",
    "Generate a visual graph analysis (VGA) from GeoPandas data (or a file opened with GeoPandas).\n"
   ]
  },
  {
   "cell_type": "code",
   "execution_count": 1,
   "id": "a46c909a",
   "metadata": {},
   "outputs": [],
   "source": [
    "import geopandas as gpd\n",
    "from cityseer.metrics import visibility\n"
   ]
  },
  {
   "cell_type": "markdown",
   "id": "2ea4df1c",
   "metadata": {},
   "source": [
    "Open a GeoPandas dataset.\n"
   ]
  },
  {
   "cell_type": "code",
   "execution_count": 6,
   "id": "e519f84d",
   "metadata": {},
   "outputs": [
    {
     "data": {
      "text/html": [
       "<div>\n",
       "<style scoped>\n",
       "    .dataframe tbody tr th:only-of-type {\n",
       "        vertical-align: middle;\n",
       "    }\n",
       "\n",
       "    .dataframe tbody tr th {\n",
       "        vertical-align: top;\n",
       "    }\n",
       "\n",
       "    .dataframe thead th {\n",
       "        text-align: right;\n",
       "    }\n",
       "</style>\n",
       "<table border=\"1\" class=\"dataframe\">\n",
       "  <thead>\n",
       "    <tr style=\"text-align: right;\">\n",
       "      <th></th>\n",
       "      <th>mean_height</th>\n",
       "      <th>area</th>\n",
       "      <th>perimeter</th>\n",
       "      <th>compactness</th>\n",
       "      <th>orientation</th>\n",
       "      <th>volume</th>\n",
       "      <th>floor_area_ratio</th>\n",
       "      <th>form_factor</th>\n",
       "      <th>corners</th>\n",
       "      <th>shape_index</th>\n",
       "      <th>fractal_dimension</th>\n",
       "      <th>geometry</th>\n",
       "    </tr>\n",
       "  </thead>\n",
       "  <tbody>\n",
       "    <tr>\n",
       "      <th>0</th>\n",
       "      <td>NaN</td>\n",
       "      <td>187.418714</td>\n",
       "      <td>58.669276</td>\n",
       "      <td>0.491102</td>\n",
       "      <td>40.235999</td>\n",
       "      <td>NaN</td>\n",
       "      <td>NaN</td>\n",
       "      <td>NaN</td>\n",
       "      <td>4</td>\n",
       "      <td>0.700787</td>\n",
       "      <td>1.026350</td>\n",
       "      <td>POLYGON ((448688.642 4492911, 448678.351 44928...</td>\n",
       "    </tr>\n",
       "    <tr>\n",
       "      <th>1</th>\n",
       "      <td>7.0</td>\n",
       "      <td>39.082821</td>\n",
       "      <td>26.992208</td>\n",
       "      <td>0.472874</td>\n",
       "      <td>10.252128</td>\n",
       "      <td>273.579749</td>\n",
       "      <td>78.165643</td>\n",
       "      <td>5.410857</td>\n",
       "      <td>4</td>\n",
       "      <td>0.687658</td>\n",
       "      <td>1.041691</td>\n",
       "      <td>POLYGON ((440862.665 4482604.017, 440862.64 44...</td>\n",
       "    </tr>\n",
       "    <tr>\n",
       "      <th>2</th>\n",
       "      <td>7.0</td>\n",
       "      <td>39.373412</td>\n",
       "      <td>27.050303</td>\n",
       "      <td>0.475086</td>\n",
       "      <td>10.252128</td>\n",
       "      <td>275.613883</td>\n",
       "      <td>78.746824</td>\n",
       "      <td>5.400665</td>\n",
       "      <td>4</td>\n",
       "      <td>0.689265</td>\n",
       "      <td>1.040760</td>\n",
       "      <td>POLYGON ((440862.681 4482608.269, 440862.665 4...</td>\n",
       "    </tr>\n",
       "    <tr>\n",
       "      <th>3</th>\n",
       "      <td>7.5</td>\n",
       "      <td>37.933979</td>\n",
       "      <td>26.739878</td>\n",
       "      <td>0.464266</td>\n",
       "      <td>10.252129</td>\n",
       "      <td>284.504846</td>\n",
       "      <td>75.867959</td>\n",
       "      <td>5.513124</td>\n",
       "      <td>4</td>\n",
       "      <td>0.681371</td>\n",
       "      <td>1.045072</td>\n",
       "      <td>POLYGON ((440862.705 4482612.365, 440862.681 4...</td>\n",
       "    </tr>\n",
       "    <tr>\n",
       "      <th>4</th>\n",
       "      <td>7.0</td>\n",
       "      <td>39.013701</td>\n",
       "      <td>26.972641</td>\n",
       "      <td>0.472468</td>\n",
       "      <td>10.183618</td>\n",
       "      <td>273.095907</td>\n",
       "      <td>78.027402</td>\n",
       "      <td>5.412350</td>\n",
       "      <td>4</td>\n",
       "      <td>0.687363</td>\n",
       "      <td>1.041798</td>\n",
       "      <td>POLYGON ((440880.29 4482607.963, 440880.274 44...</td>\n",
       "    </tr>\n",
       "  </tbody>\n",
       "</table>\n",
       "</div>"
      ],
      "text/plain": [
       "   mean_height        area  perimeter  compactness  orientation      volume  \\\n",
       "0          NaN  187.418714  58.669276     0.491102    40.235999         NaN   \n",
       "1          7.0   39.082821  26.992208     0.472874    10.252128  273.579749   \n",
       "2          7.0   39.373412  27.050303     0.475086    10.252128  275.613883   \n",
       "3          7.5   37.933979  26.739878     0.464266    10.252129  284.504846   \n",
       "4          7.0   39.013701  26.972641     0.472468    10.183618  273.095907   \n",
       "\n",
       "   floor_area_ratio  form_factor  corners  shape_index  fractal_dimension  \\\n",
       "0               NaN          NaN        4     0.700787           1.026350   \n",
       "1         78.165643     5.410857        4     0.687658           1.041691   \n",
       "2         78.746824     5.400665        4     0.689265           1.040760   \n",
       "3         75.867959     5.513124        4     0.681371           1.045072   \n",
       "4         78.027402     5.412350        4     0.687363           1.041798   \n",
       "\n",
       "                                            geometry  \n",
       "0  POLYGON ((448688.642 4492911, 448678.351 44928...  \n",
       "1  POLYGON ((440862.665 4482604.017, 440862.64 44...  \n",
       "2  POLYGON ((440862.681 4482608.269, 440862.665 4...  \n",
       "3  POLYGON ((440862.705 4482612.365, 440862.681 4...  \n",
       "4  POLYGON ((440880.29 4482607.963, 440880.274 44...  "
      ]
     },
     "execution_count": 6,
     "metadata": {},
     "output_type": "execute_result"
    }
   ],
   "source": [
    "bldgs_gdf = gpd.read_file(\"data/madrid_buildings/madrid_bldgs.gpkg\")\n",
    "bldgs_gdf.head()"
   ]
  },
  {
   "cell_type": "code",
   "execution_count": 7,
   "id": "1bdfa7fc",
   "metadata": {},
   "outputs": [
    {
     "data": {
      "text/plain": [
       "<Projected CRS: EPSG:25830>\n",
       "Name: ETRS89 / UTM zone 30N\n",
       "Axis Info [cartesian]:\n",
       "- E[east]: Easting (metre)\n",
       "- N[north]: Northing (metre)\n",
       "Area of Use:\n",
       "- name: Europe between 6°W and 0°W: Faroe Islands offshore; Ireland - offshore; Jan Mayen - offshore; Norway including Svalbard - offshore; Spain - mainland - onshore and offshore.\n",
       "- bounds: (-6.0, 35.26, 0.01, 80.49)\n",
       "Coordinate Operation:\n",
       "- name: UTM zone 30N\n",
       "- method: Transverse Mercator\n",
       "Datum: European Terrestrial Reference System 1989 ensemble\n",
       "- Ellipsoid: GRS 1980\n",
       "- Prime Meridian: Greenwich"
      ]
     },
     "execution_count": 7,
     "metadata": {},
     "output_type": "execute_result"
    }
   ],
   "source": [
    "bldgs_gdf.crs"
   ]
  },
  {
   "cell_type": "markdown",
   "id": "9e619002",
   "metadata": {},
   "source": [
    "Use the visibility module to create a VGA from GeoPandas data. The VGA will be generated based on the GeoPandas data provided to the `visibility_graph` method.\n",
    "\n",
    "Pay particular attention to:\n",
    "\n",
    "- The `bounds` parameter, which defines the geographical area in the same CRS as your dataset. The order is Left, Bottom, Right, Top.\n",
    "- The `out_path` parameter, which specifies where to save the output files. The filepath must exist. The extension of the output file will be `.tif` and the file will be saved in GeoTIFF format, which can be opened in QGIS.\n",
    "- The `from_crs_code` parameter, which specifies the coordinate reference system (CRS) to use for the input data. This should match the CRS of your GeoPandas dataset. If you are unsure, you can check the CRS of your GeoDataFrame using `.crs`.\n",
    "- The `to_crs_code` parameter, which specifies the coordinate reference system (CRS) to use for the output. The default is the local UTM, but you can change it to any valid CRS code.\n",
    "- The `view_distance` and `resolution` parameters, which control the analysis granularity.\n",
    "\n",
    "There is a performance trade-off for the bounds, view_distance, and resolution. A larger view_distance or higher resolution will result in a more detailed graph but may take longer to compute and require more memory.\n"
   ]
  },
  {
   "cell_type": "code",
   "execution_count": 8,
   "id": "08d04c8d",
   "metadata": {},
   "outputs": [
    {
     "name": "stderr",
     "output_type": "stream",
     "text": [
      "INFO:cityseer.metrics.visibility:Preparing buildings raster.\n",
      "INFO:cityseer.metrics.visibility:Running visibility.\n",
      "100%|██████████| 1683040/1683040 [14:50<00:00, 1889.31it/s]\n",
      "INFO:rasterio._env:GDAL signalled an error: err_no=4, msg=\"Attempt to create new tiff file `/Users/gareth/dev/cityseer-examples/recipes/viewshed/images/madrid_vis_density_dist_150_res_1.tif' failed: No such file or directory\"\n"
     ]
    },
    {
     "ename": "RasterioIOError",
     "evalue": "Attempt to create new tiff file '/Users/gareth/dev/cityseer-examples/recipes/viewshed/images/madrid_vis_density_dist_150_res_1.tif' failed: No such file or directory",
     "output_type": "error",
     "traceback": [
      "\u001b[31m---------------------------------------------------------------------------\u001b[39m",
      "\u001b[31mCPLE_OpenFailedError\u001b[39m                      Traceback (most recent call last)",
      "\u001b[36mFile \u001b[39m\u001b[32mrasterio/_io.pyx:1530\u001b[39m, in \u001b[36mrasterio._io.DatasetWriterBase.__init__\u001b[39m\u001b[34m()\u001b[39m\n",
      "\u001b[36mFile \u001b[39m\u001b[32mrasterio/_err.pyx:359\u001b[39m, in \u001b[36mrasterio._err.exc_wrap_pointer\u001b[39m\u001b[34m()\u001b[39m\n",
      "\u001b[31mCPLE_OpenFailedError\u001b[39m: Attempt to create new tiff file '/Users/gareth/dev/cityseer-examples/recipes/viewshed/images/madrid_vis_density_dist_150_res_1.tif' failed: No such file or directory",
      "\nDuring handling of the above exception, another exception occurred:\n",
      "\u001b[31mRasterioIOError\u001b[39m                           Traceback (most recent call last)",
      "\u001b[36mCell\u001b[39m\u001b[36m \u001b[39m\u001b[32mIn[8]\u001b[39m\u001b[32m, line 1\u001b[39m\n\u001b[32m----> \u001b[39m\u001b[32m1\u001b[39m \u001b[43mvisibility\u001b[49m\u001b[43m.\u001b[49m\u001b[43mvisibility_graph\u001b[49m\u001b[43m(\u001b[49m\n\u001b[32m      2\u001b[39m \u001b[43m    \u001b[49m\u001b[43mbldgs_gdf\u001b[49m\u001b[43m,\u001b[49m\n\u001b[32m      3\u001b[39m \u001b[43m    \u001b[49m\u001b[43mbounds\u001b[49m\u001b[43m=\u001b[49m\u001b[43m(\u001b[49m\u001b[32;43m439658\u001b[39;49m\u001b[43m,\u001b[49m\u001b[43m \u001b[49m\u001b[32;43m4473632\u001b[39;49m\u001b[43m,\u001b[49m\u001b[43m \u001b[49m\u001b[32;43m440914\u001b[39;49m\u001b[43m,\u001b[49m\u001b[43m \u001b[49m\u001b[32;43m4474972\u001b[39;49m\u001b[43m)\u001b[49m\u001b[43m,\u001b[49m\n\u001b[32m      4\u001b[39m \u001b[43m    \u001b[49m\u001b[43mout_path\u001b[49m\u001b[43m=\u001b[49m\u001b[33;43m\"\u001b[39;49m\u001b[33;43mrecipes/viewshed/images/madrid_vis\u001b[39;49m\u001b[33;43m\"\u001b[39;49m\u001b[43m,\u001b[49m\n\u001b[32m      5\u001b[39m \u001b[43m    \u001b[49m\u001b[43mfrom_crs_code\u001b[49m\u001b[43m=\u001b[49m\u001b[32;43m25830\u001b[39;49m\u001b[43m,\u001b[49m\u001b[43m  \u001b[49m\u001b[38;5;66;43;03m# manually set CRS if needed\u001b[39;49;00m\n\u001b[32m      6\u001b[39m \u001b[43m    \u001b[49m\u001b[43mto_crs_code\u001b[49m\u001b[43m=\u001b[49m\u001b[32;43m25830\u001b[39;49m\u001b[43m,\u001b[49m\u001b[43m  \u001b[49m\u001b[38;5;66;43;03m# manually set CRS if needed\u001b[39;49;00m\n\u001b[32m      7\u001b[39m \u001b[43m    \u001b[49m\u001b[43mview_distance\u001b[49m\u001b[43m=\u001b[49m\u001b[32;43m150\u001b[39;49m\u001b[43m,\u001b[49m\u001b[43m  \u001b[49m\u001b[38;5;66;43;03m# can use a larger view distance - but slower\u001b[39;49;00m\n\u001b[32m      8\u001b[39m \u001b[43m    \u001b[49m\u001b[43mresolution\u001b[49m\u001b[43m=\u001b[49m\u001b[32;43m1\u001b[39;49m\u001b[43m,\u001b[49m\u001b[43m  \u001b[49m\u001b[38;5;66;43;03m# can use a higher resolution - but slower\u001b[39;49;00m\n\u001b[32m      9\u001b[39m \u001b[43m)\u001b[49m\n",
      "\u001b[36mFile \u001b[39m\u001b[32m~/dev/cityseer-examples/.venv/lib/python3.12/site-packages/cityseer/metrics/visibility.py:150\u001b[39m, in \u001b[36mvisibility_graph\u001b[39m\u001b[34m(bldgs_gdf, bounds, out_path, from_crs_code, to_crs_code, view_distance, resolution)\u001b[39m\n\u001b[32m    148\u001b[39m \u001b[38;5;28;01mfor\u001b[39;00m band_idx, key \u001b[38;5;129;01min\u001b[39;00m \u001b[38;5;28menumerate\u001b[39m([\u001b[33m\"\u001b[39m\u001b[33mdensity\u001b[39m\u001b[33m\"\u001b[39m, \u001b[33m\"\u001b[39m\u001b[33mfarness\u001b[39m\u001b[33m\"\u001b[39m, \u001b[33m\"\u001b[39m\u001b[33mharmonic\u001b[39m\u001b[33m\"\u001b[39m]):\n\u001b[32m    149\u001b[39m     path = Path(\u001b[33mf\u001b[39m\u001b[33m\"\u001b[39m\u001b[38;5;132;01m{\u001b[39;00mwrite_path\u001b[38;5;132;01m}\u001b[39;00m\u001b[33m_\u001b[39m\u001b[38;5;132;01m{\u001b[39;00mkey\u001b[38;5;132;01m}\u001b[39;00m\u001b[33m_dist_\u001b[39m\u001b[38;5;132;01m{\u001b[39;00mview_distance\u001b[38;5;132;01m}\u001b[39;00m\u001b[33m_res_\u001b[39m\u001b[38;5;132;01m{\u001b[39;00mresolution\u001b[38;5;132;01m}\u001b[39;00m\u001b[33m\"\u001b[39m).with_suffix(\u001b[33m\"\u001b[39m\u001b[33m.tif\u001b[39m\u001b[33m\"\u001b[39m)\n\u001b[32m--> \u001b[39m\u001b[32m150\u001b[39m     \u001b[38;5;28;01mwith\u001b[39;00m \u001b[43mrasterio\u001b[49m\u001b[43m.\u001b[49m\u001b[43mopen\u001b[49m\u001b[43m(\u001b[49m\n\u001b[32m    151\u001b[39m \u001b[43m        \u001b[49m\u001b[38;5;28;43mstr\u001b[39;49m\u001b[43m(\u001b[49m\u001b[43mpath\u001b[49m\u001b[43m.\u001b[49m\u001b[43mresolve\u001b[49m\u001b[43m(\u001b[49m\u001b[43m)\u001b[49m\u001b[43m)\u001b[49m\u001b[43m,\u001b[49m\n\u001b[32m    152\u001b[39m \u001b[43m        \u001b[49m\u001b[33;43m\"\u001b[39;49m\u001b[33;43mw\u001b[39;49m\u001b[33;43m\"\u001b[39;49m\u001b[43m,\u001b[49m\n\u001b[32m    153\u001b[39m \u001b[43m        \u001b[49m\u001b[43mdriver\u001b[49m\u001b[43m=\u001b[49m\u001b[33;43m\"\u001b[39;49m\u001b[33;43mGTiff\u001b[39;49m\u001b[33;43m\"\u001b[39;49m\u001b[43m,\u001b[49m\n\u001b[32m    154\u001b[39m \u001b[43m        \u001b[49m\u001b[43mheight\u001b[49m\u001b[43m=\u001b[49m\u001b[43mbldgs_rast\u001b[49m\u001b[43m.\u001b[49m\u001b[43mshape\u001b[49m\u001b[43m[\u001b[49m\u001b[32;43m0\u001b[39;49m\u001b[43m]\u001b[49m\u001b[43m,\u001b[49m\u001b[43m  \u001b[49m\u001b[38;5;66;43;03m# type: ignore\u001b[39;49;00m\n\u001b[32m    155\u001b[39m \u001b[43m        \u001b[49m\u001b[43mwidth\u001b[49m\u001b[43m=\u001b[49m\u001b[43mbldgs_rast\u001b[49m\u001b[43m.\u001b[49m\u001b[43mshape\u001b[49m\u001b[43m[\u001b[49m\u001b[32;43m1\u001b[39;49m\u001b[43m]\u001b[49m\u001b[43m,\u001b[49m\u001b[43m  \u001b[49m\u001b[38;5;66;43;03m# type: ignore\u001b[39;49;00m\n\u001b[32m    156\u001b[39m \u001b[43m        \u001b[49m\u001b[43mcount\u001b[49m\u001b[43m=\u001b[49m\u001b[32;43m1\u001b[39;49m\u001b[43m,\u001b[49m\n\u001b[32m    157\u001b[39m \u001b[43m        \u001b[49m\u001b[43mdtype\u001b[49m\u001b[43m=\u001b[49m\u001b[43mnp\u001b[49m\u001b[43m.\u001b[49m\u001b[43mfloat32\u001b[49m\u001b[43m,\u001b[49m\n\u001b[32m    158\u001b[39m \u001b[43m        \u001b[49m\u001b[43mcrs\u001b[49m\u001b[43m=\u001b[49m\u001b[43mto_crs_code\u001b[49m\u001b[43m,\u001b[49m\n\u001b[32m    159\u001b[39m \u001b[43m        \u001b[49m\u001b[43mtransform\u001b[49m\u001b[43m=\u001b[49m\u001b[43mtransform\u001b[49m\u001b[43m,\u001b[49m\n\u001b[32m    160\u001b[39m \u001b[43m    \u001b[49m\u001b[43m)\u001b[49m \u001b[38;5;28;01mas\u001b[39;00m dst:\n\u001b[32m    161\u001b[39m         dst.write(bands[band_idx], \u001b[32m1\u001b[39m)\n",
      "\u001b[36mFile \u001b[39m\u001b[32m~/dev/cityseer-examples/.venv/lib/python3.12/site-packages/rasterio/env.py:463\u001b[39m, in \u001b[36mensure_env_with_credentials.<locals>.wrapper\u001b[39m\u001b[34m(*args, **kwds)\u001b[39m\n\u001b[32m    460\u001b[39m     session = DummySession()\n\u001b[32m    462\u001b[39m \u001b[38;5;28;01mwith\u001b[39;00m env_ctor(session=session):\n\u001b[32m--> \u001b[39m\u001b[32m463\u001b[39m     \u001b[38;5;28;01mreturn\u001b[39;00m \u001b[43mf\u001b[49m\u001b[43m(\u001b[49m\u001b[43m*\u001b[49m\u001b[43margs\u001b[49m\u001b[43m,\u001b[49m\u001b[43m \u001b[49m\u001b[43m*\u001b[49m\u001b[43m*\u001b[49m\u001b[43mkwds\u001b[49m\u001b[43m)\u001b[49m\n",
      "\u001b[36mFile \u001b[39m\u001b[32m~/dev/cityseer-examples/.venv/lib/python3.12/site-packages/rasterio/__init__.py:366\u001b[39m, in \u001b[36mopen\u001b[39m\u001b[34m(fp, mode, driver, width, height, count, crs, transform, dtype, nodata, sharing, opener, **kwargs)\u001b[39m\n\u001b[32m    364\u001b[39m writer = get_writer_for_driver(driver)\n\u001b[32m    365\u001b[39m \u001b[38;5;28;01mif\u001b[39;00m writer \u001b[38;5;129;01mis\u001b[39;00m \u001b[38;5;129;01mnot\u001b[39;00m \u001b[38;5;28;01mNone\u001b[39;00m:\n\u001b[32m--> \u001b[39m\u001b[32m366\u001b[39m     dataset = \u001b[43mwriter\u001b[49m\u001b[43m(\u001b[49m\n\u001b[32m    367\u001b[39m \u001b[43m        \u001b[49m\u001b[43mpath\u001b[49m\u001b[43m,\u001b[49m\n\u001b[32m    368\u001b[39m \u001b[43m        \u001b[49m\u001b[43mmode\u001b[49m\u001b[43m,\u001b[49m\n\u001b[32m    369\u001b[39m \u001b[43m        \u001b[49m\u001b[43mdriver\u001b[49m\u001b[43m=\u001b[49m\u001b[43mdriver\u001b[49m\u001b[43m,\u001b[49m\n\u001b[32m    370\u001b[39m \u001b[43m        \u001b[49m\u001b[43mwidth\u001b[49m\u001b[43m=\u001b[49m\u001b[43mwidth\u001b[49m\u001b[43m,\u001b[49m\n\u001b[32m    371\u001b[39m \u001b[43m        \u001b[49m\u001b[43mheight\u001b[49m\u001b[43m=\u001b[49m\u001b[43mheight\u001b[49m\u001b[43m,\u001b[49m\n\u001b[32m    372\u001b[39m \u001b[43m        \u001b[49m\u001b[43mcount\u001b[49m\u001b[43m=\u001b[49m\u001b[43mcount\u001b[49m\u001b[43m,\u001b[49m\n\u001b[32m    373\u001b[39m \u001b[43m        \u001b[49m\u001b[43mcrs\u001b[49m\u001b[43m=\u001b[49m\u001b[43mcrs\u001b[49m\u001b[43m,\u001b[49m\n\u001b[32m    374\u001b[39m \u001b[43m        \u001b[49m\u001b[43mtransform\u001b[49m\u001b[43m=\u001b[49m\u001b[43mtransform\u001b[49m\u001b[43m,\u001b[49m\n\u001b[32m    375\u001b[39m \u001b[43m        \u001b[49m\u001b[43mdtype\u001b[49m\u001b[43m=\u001b[49m\u001b[43mdtype\u001b[49m\u001b[43m,\u001b[49m\n\u001b[32m    376\u001b[39m \u001b[43m        \u001b[49m\u001b[43mnodata\u001b[49m\u001b[43m=\u001b[49m\u001b[43mnodata\u001b[49m\u001b[43m,\u001b[49m\n\u001b[32m    377\u001b[39m \u001b[43m        \u001b[49m\u001b[43msharing\u001b[49m\u001b[43m=\u001b[49m\u001b[43msharing\u001b[49m\u001b[43m,\u001b[49m\n\u001b[32m    378\u001b[39m \u001b[43m        \u001b[49m\u001b[43m*\u001b[49m\u001b[43m*\u001b[49m\u001b[43mkwargs\u001b[49m\n\u001b[32m    379\u001b[39m \u001b[43m    \u001b[49m\u001b[43m)\u001b[49m\n\u001b[32m    380\u001b[39m \u001b[38;5;28;01melse\u001b[39;00m:\n\u001b[32m    381\u001b[39m     \u001b[38;5;28;01mraise\u001b[39;00m DriverCapabilityError(\n\u001b[32m    382\u001b[39m         \u001b[33m\"\u001b[39m\u001b[33mWriter does not exist for driver: \u001b[39m\u001b[38;5;132;01m%s\u001b[39;00m\u001b[33m\"\u001b[39m % \u001b[38;5;28mstr\u001b[39m(driver)\n\u001b[32m    383\u001b[39m     )\n",
      "\u001b[36mFile \u001b[39m\u001b[32mrasterio/_io.pyx:1542\u001b[39m, in \u001b[36mrasterio._io.DatasetWriterBase.__init__\u001b[39m\u001b[34m()\u001b[39m\n",
      "\u001b[31mRasterioIOError\u001b[39m: Attempt to create new tiff file '/Users/gareth/dev/cityseer-examples/recipes/viewshed/images/madrid_vis_density_dist_150_res_1.tif' failed: No such file or directory"
     ]
    }
   ],
   "source": [
    "visibility.visibility_graph(\n",
    "    bldgs_gdf,\n",
    "    bounds=(439658, 4473632, 440914, 4474972),\n",
    "    out_path=\"recipes/viewshed/images/madrid_vis\",\n",
    "    from_crs_code=25830,  # manually set CRS if needed\n",
    "    to_crs_code=25830,  # manually set CRS if needed\n",
    "    view_distance=150,  # can use a larger view distance - but slower\n",
    "    resolution=1,  # can use a higher resolution - but slower\n",
    ")"
   ]
  },
  {
   "cell_type": "markdown",
   "id": "6694b768",
   "metadata": {},
   "source": [
    "The output will generate three files:\n",
    "\n",
    "- A `density` measure - the number of visible pixels.\n",
    "- A `farness` measure - the average distance to visible pixels.\n",
    "- A `harmonic` closeness measure - the harmonic inverse of the distance to visible pixels.\n"
   ]
  },
  {
   "cell_type": "markdown",
   "id": "7a7033a3",
   "metadata": {},
   "source": [
    "<img src=\"images/madrid_farness_150_1.png\" style=\"width:100%;\">\n"
   ]
  }
 ],
 "metadata": {
  "kernelspec": {
   "display_name": ".venv",
   "language": "python",
   "name": "python3"
  },
  "language_info": {
   "codemirror_mode": {
    "name": "ipython",
    "version": 3
   },
   "file_extension": ".py",
   "mimetype": "text/x-python",
   "name": "python",
   "nbconvert_exporter": "python",
   "pygments_lexer": "ipython3",
   "version": "3.12.9"
  }
 },
 "nbformat": 4,
 "nbformat_minor": 5
}
