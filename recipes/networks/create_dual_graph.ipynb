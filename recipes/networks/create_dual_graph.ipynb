{
 "cells": [
  {
   "cell_type": "markdown",
   "metadata": {},
   "source": [
    "# Create a Dual Graph\n",
    "\n",
    "Create a dual graph representation from a primal graph.\n",
    "\n",
    "For purposes of visualisation and intuition, it is preferable to work with the network in its dual representation. This way, metrics such as centrality and accessibility are calculated relative to streets instead of intersections. The advantage is that you can then visualise the results on the street network itself. Additionally, angular distances (typically used for Space Syntax) are more intuitive to calculate on the dual graph. That said, nothing stops you from working with the primal graph if you prefer.\n"
   ]
  },
  {
   "cell_type": "code",
   "execution_count": 1,
   "metadata": {},
   "outputs": [],
   "source": [
    "from cityseer.tools import graphs, io"
   ]
  },
  {
   "cell_type": "markdown",
   "metadata": {},
   "source": [
    "First, create a primal graph as before.\n"
   ]
  },
  {
   "cell_type": "code",
   "execution_count": 2,
   "metadata": {},
   "outputs": [
    {
     "name": "stderr",
     "output_type": "stream",
     "text": [
      "INFO:cityseer.tools.io:Converting networkX graph from EPSG code 4326 to EPSG code 32630.\n",
      "INFO:cityseer.tools.io:Processing node x, y coordinates.\n",
      "100%|██████████| 2927/2927 [00:00<00:00, 753959.82it/s]\n",
      "INFO:cityseer.tools.io:Processing edge geom coordinates, if present.\n",
      "100%|██████████| 3158/3158 [00:00<00:00, 2081661.49it/s]\n",
      "INFO:cityseer.tools.graphs:Generating interpolated edge geometries.\n",
      "100%|██████████| 3158/3158 [00:00<00:00, 123201.24it/s]\n",
      "INFO:cityseer.tools.graphs:Removing filler nodes.\n",
      "100%|██████████| 2927/2927 [00:00<00:00, 27754.87it/s]\n",
      "INFO:cityseer.tools.util:Creating edges STR tree.\n",
      "100%|██████████| 1726/1726 [00:00<00:00, 212279.53it/s]\n",
      "100%|██████████| 1726/1726 [00:00<00:00, 13669.86it/s]\n",
      "INFO:cityseer.tools.graphs:Removing filler nodes.\n",
      "100%|██████████| 1495/1495 [00:00<00:00, 75742.38it/s]\n",
      "100%|██████████| 1122/1122 [00:00<00:00, 234783.93it/s]\n",
      "INFO:cityseer.tools.graphs:Removing dangling nodes.\n",
      "INFO:cityseer.tools.graphs:Removing filler nodes.\n",
      "100%|██████████| 1318/1318 [00:00<00:00, 1632632.21it/s]\n",
      "INFO:cityseer.tools.util:Creating edges STR tree.\n",
      "100%|██████████| 1074/1074 [00:00<00:00, 1755527.08it/s]\n",
      "INFO:cityseer.tools.graphs:Splitting opposing edges.\n",
      "100%|██████████| 864/864 [00:00<00:00, 308783.12it/s]\n",
      "INFO:cityseer.tools.graphs:Squashing opposing nodes\n",
      "INFO:cityseer.tools.graphs:Merging parallel edges within buffer of 25.\n",
      "100%|██████████| 1074/1074 [00:00<00:00, 266643.93it/s]\n",
      "INFO:cityseer.tools.util:Creating edges STR tree.\n",
      "100%|██████████| 1072/1072 [00:00<00:00, 1659149.04it/s]\n",
      "INFO:cityseer.tools.graphs:Splitting opposing edges.\n",
      "100%|██████████| 864/864 [00:00<00:00, 40409.90it/s]\n",
      "INFO:cityseer.tools.graphs:Squashing opposing nodes\n",
      "INFO:cityseer.tools.graphs:Merging parallel edges within buffer of 25.\n",
      "100%|██████████| 1079/1079 [00:00<00:00, 420834.48it/s]\n",
      "INFO:cityseer.tools.util:Creating edges STR tree.\n",
      "100%|██████████| 1079/1079 [00:00<00:00, 1688047.00it/s]\n",
      "INFO:cityseer.tools.graphs:Splitting opposing edges.\n",
      "100%|██████████| 864/864 [00:00<00:00, 225295.53it/s]\n",
      "INFO:cityseer.tools.graphs:Squashing opposing nodes\n",
      "INFO:cityseer.tools.graphs:Merging parallel edges within buffer of 25.\n",
      "100%|██████████| 1079/1079 [00:00<00:00, 441872.10it/s]\n",
      "INFO:cityseer.tools.util:Creating edges STR tree.\n",
      "100%|██████████| 1079/1079 [00:00<00:00, 1541435.29it/s]\n",
      "INFO:cityseer.tools.graphs:Splitting opposing edges.\n",
      "100%|██████████| 864/864 [00:00<00:00, 99966.31it/s]\n",
      "INFO:cityseer.tools.graphs:Squashing opposing nodes\n",
      "INFO:cityseer.tools.graphs:Merging parallel edges within buffer of 25.\n",
      "100%|██████████| 1079/1079 [00:00<00:00, 20067.37it/s]\n",
      "INFO:cityseer.tools.util:Creating nodes STR tree\n",
      "100%|██████████| 864/864 [00:00<00:00, 199805.85it/s]\n",
      "INFO:cityseer.tools.graphs:Consolidating nodes.\n",
      "100%|██████████| 864/864 [00:00<00:00, 306926.29it/s]\n",
      "INFO:cityseer.tools.graphs:Merging parallel edges within buffer of 25.\n",
      "100%|██████████| 1079/1079 [00:00<00:00, 391221.82it/s]\n",
      "INFO:cityseer.tools.graphs:Removing filler nodes.\n",
      "100%|██████████| 864/864 [00:00<00:00, 1028634.30it/s]\n",
      "INFO:cityseer.tools.util:Creating nodes STR tree\n",
      "100%|██████████| 861/861 [00:00<00:00, 211545.65it/s]\n",
      "INFO:cityseer.tools.graphs:Consolidating nodes.\n",
      "100%|██████████| 861/861 [00:00<00:00, 37651.00it/s]\n",
      "INFO:cityseer.tools.graphs:Merging parallel edges within buffer of 25.\n",
      "100%|██████████| 993/993 [00:00<00:00, 75825.51it/s]\n",
      "INFO:cityseer.tools.graphs:Removing filler nodes.\n",
      "100%|██████████| 795/795 [00:00<00:00, 712950.97it/s]\n",
      "INFO:cityseer.tools.util:Creating nodes STR tree\n",
      "100%|██████████| 789/789 [00:00<00:00, 192122.26it/s]\n",
      "INFO:cityseer.tools.graphs:Consolidating nodes.\n",
      "100%|██████████| 789/789 [00:00<00:00, 97841.88it/s]\n",
      "INFO:cityseer.tools.graphs:Merging parallel edges within buffer of 25.\n",
      "100%|██████████| 968/968 [00:00<00:00, 249176.77it/s]\n",
      "INFO:cityseer.tools.graphs:Removing filler nodes.\n",
      "100%|██████████| 788/788 [00:00<00:00, 1060690.49it/s]\n",
      "INFO:cityseer.tools.util:Creating nodes STR tree\n",
      "100%|██████████| 786/786 [00:00<00:00, 204321.22it/s]\n",
      "INFO:cityseer.tools.graphs:Consolidating nodes.\n",
      "100%|██████████| 786/786 [00:00<00:00, 61574.95it/s]\n",
      "INFO:cityseer.tools.graphs:Merging parallel edges within buffer of 25.\n",
      "100%|██████████| 948/948 [00:00<00:00, 283386.80it/s]\n",
      "INFO:cityseer.tools.graphs:Removing filler nodes.\n",
      "100%|██████████| 774/774 [00:00<00:00, 1102340.00it/s]\n",
      "INFO:cityseer.tools.util:Creating nodes STR tree\n",
      "100%|██████████| 773/773 [00:00<00:00, 201767.19it/s]\n",
      "INFO:cityseer.tools.util:Creating edges STR tree.\n",
      "100%|██████████| 945/945 [00:00<00:00, 1455606.79it/s]\n",
      "INFO:cityseer.tools.graphs:Snapping gapped endings.\n",
      "100%|██████████| 773/773 [00:00<00:00, 22595.60it/s]\n",
      "INFO:cityseer.tools.util:Creating edges STR tree.\n",
      "100%|██████████| 977/977 [00:00<00:00, 1580954.86it/s]\n",
      "INFO:cityseer.tools.graphs:Splitting opposing edges.\n",
      "100%|██████████| 773/773 [00:00<00:00, 22772.08it/s]\n",
      "INFO:cityseer.tools.graphs:Merging parallel edges within buffer of 25.\n",
      "100%|██████████| 1107/1107 [00:00<00:00, 488746.79it/s]\n",
      "INFO:cityseer.tools.graphs:Removing dangling nodes.\n",
      "100%|██████████| 846/846 [00:00<00:00, 472110.32it/s]\n",
      "INFO:cityseer.tools.graphs:Removing filler nodes.\n",
      "100%|██████████| 702/702 [00:00<00:00, 42212.43it/s]\n",
      "INFO:cityseer.tools.util:Creating edges STR tree.\n",
      "100%|██████████| 779/779 [00:00<00:00, 1657718.32it/s]\n",
      "INFO:cityseer.tools.graphs:Splitting opposing edges.\n",
      "100%|██████████| 518/518 [00:00<00:00, 17134.86it/s]\n",
      "INFO:cityseer.tools.graphs:Squashing opposing nodes\n",
      "INFO:cityseer.tools.graphs:Merging parallel edges within buffer of 25.\n",
      "100%|██████████| 785/785 [00:00<00:00, 180126.30it/s]\n",
      "INFO:cityseer.tools.util:Creating nodes STR tree\n",
      "100%|██████████| 518/518 [00:00<00:00, 148172.23it/s]\n",
      "INFO:cityseer.tools.graphs:Consolidating nodes.\n",
      "100%|██████████| 518/518 [00:00<00:00, 10969.93it/s]\n",
      "INFO:cityseer.tools.graphs:Merging parallel edges within buffer of 25.\n",
      "100%|██████████| 611/611 [00:00<00:00, 69290.79it/s]\n",
      "INFO:cityseer.tools.util:Creating edges STR tree.\n",
      "100%|██████████| 579/579 [00:00<00:00, 1713833.46it/s]\n",
      "INFO:cityseer.tools.graphs:Splitting opposing edges.\n",
      "100%|██████████| 400/400 [00:00<00:00, 23020.33it/s]\n",
      "INFO:cityseer.tools.graphs:Squashing opposing nodes\n",
      "INFO:cityseer.tools.graphs:Merging parallel edges within buffer of 25.\n",
      "100%|██████████| 579/579 [00:00<00:00, 336637.37it/s]\n",
      "INFO:cityseer.tools.util:Creating nodes STR tree\n",
      "100%|██████████| 400/400 [00:00<00:00, 194360.70it/s]\n",
      "INFO:cityseer.tools.graphs:Consolidating nodes.\n",
      "100%|██████████| 400/400 [00:00<00:00, 12648.69it/s]\n",
      "INFO:cityseer.tools.graphs:Merging parallel edges within buffer of 25.\n",
      "100%|██████████| 524/524 [00:00<00:00, 119824.19it/s]\n",
      "INFO:cityseer.tools.graphs:Removing filler nodes.\n",
      "100%|██████████| 344/344 [00:00<00:00, 223661.54it/s]\n",
      "INFO:cityseer.tools.graphs:Merging parallel edges within buffer of 50.\n",
      "100%|██████████| 503/503 [00:00<00:00, 111261.20it/s]\n",
      "INFO:cityseer.tools.graphs:Ironing edges.\n",
      "100%|██████████| 498/498 [00:00<00:00, 42093.49it/s]\n",
      "INFO:cityseer.tools.graphs:Merging parallel edges within buffer of 1.\n",
      "100%|██████████| 498/498 [00:00<00:00, 346567.68it/s]\n",
      "INFO:cityseer.tools.graphs:Removing dangling nodes.\n",
      "100%|██████████| 331/331 [00:00<00:00, 586777.10it/s]\n",
      "INFO:cityseer.tools.graphs:Removing filler nodes.\n",
      "100%|██████████| 328/328 [00:00<00:00, 273559.70it/s]"
     ]
    },
    {
     "name": "stdout",
     "output_type": "stream",
     "text": [
      "MultiGraph with 320 nodes and 487 edges\n"
     ]
    },
    {
     "name": "stderr",
     "output_type": "stream",
     "text": [
      "\n"
     ]
    }
   ],
   "source": [
    "lng, lat = -0.13396079424572427, 51.51371088849723\n",
    "buffer = 500\n",
    "poly_wgs, epsg_code = io.buffered_point_poly(lng, lat, buffer)\n",
    "G = io.osm_graph_from_poly(poly_wgs)\n",
    "print(G)"
   ]
  },
  {
   "cell_type": "markdown",
   "metadata": {},
   "source": [
    "A dual graph representation can then be created using the [`nx_to_dual`](https://cityseer.benchmarkurbanism.com/tools/graphs#nx-to-dual) function available from the `cityseer` package's `graphs` module.\n",
    "\n",
    "Notice that the dual graph will have the same number of nodes as the primal graph's number of edges, since the edges have been converted to nodes. The new edges are created by splitting the original edges at their midpoints, and then welding corresponding segments together across intersections. True representations of street geometries are therefore preserved in the dual graph, allowing for accurate calculations of metric distances and angular deviation.\n"
   ]
  },
  {
   "cell_type": "code",
   "execution_count": 3,
   "metadata": {},
   "outputs": [
    {
     "name": "stderr",
     "output_type": "stream",
     "text": [
      "INFO:cityseer.tools.graphs:Converting graph to dual.\n",
      "INFO:cityseer.tools.graphs:Preparing dual nodes\n",
      "100%|██████████| 487/487 [00:00<00:00, 54916.68it/s]\n",
      "INFO:cityseer.tools.graphs:Preparing dual edges (splitting and welding geoms)\n",
      "100%|██████████| 487/487 [00:00<00:00, 2088.20it/s]"
     ]
    },
    {
     "name": "stdout",
     "output_type": "stream",
     "text": [
      "MultiGraph with 487 nodes and 1151 edges\n"
     ]
    },
    {
     "name": "stderr",
     "output_type": "stream",
     "text": [
      "\n"
     ]
    }
   ],
   "source": [
    "G_dual = graphs.nx_to_dual(G)\n",
    "print(G_dual)"
   ]
  }
 ],
 "metadata": {
  "kernelspec": {
   "display_name": ".venv",
   "language": "python",
   "name": "python3"
  },
  "language_info": {
   "codemirror_mode": {
    "name": "ipython",
    "version": 3
   },
   "file_extension": ".py",
   "mimetype": "text/x-python",
   "name": "python",
   "nbconvert_exporter": "python",
   "pygments_lexer": "ipython3",
   "version": "3.11.11"
  }
 },
 "nbformat": 4,
 "nbformat_minor": 2
}
