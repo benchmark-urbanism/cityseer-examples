{
 "cells": [
  {
   "cell_type": "markdown",
   "metadata": {},
   "source": [
    "# Create a Network from a Buffered Coordinate\n",
    "\n",
    "Create a `networkx` graph from a buffered point.\n"
   ]
  },
  {
   "cell_type": "code",
   "execution_count": 7,
   "metadata": {},
   "outputs": [],
   "source": [
    "from cityseer.tools import io\n"
   ]
  },
  {
   "cell_type": "markdown",
   "metadata": {},
   "source": [
    "Define a longitude and latitude, and a buffer distance in meters.\n"
   ]
  },
  {
   "cell_type": "code",
   "execution_count": 8,
   "metadata": {},
   "outputs": [],
   "source": [
    "lng, lat = -0.13396079424572427, 51.51371088849723\n",
    "buffer = 500\n"
   ]
  },
  {
   "cell_type": "markdown",
   "metadata": {},
   "source": [
    "A geometry can now be created using the [`buffered_point_poly`](https://cityseer.benchmarkurbanism.com/tools/io#buffered-point-poly) function available from the `cityseer` package's `io` module.\n"
   ]
  },
  {
   "cell_type": "code",
   "execution_count": 9,
   "metadata": {},
   "outputs": [
    {
     "name": "stdout",
     "output_type": "stream",
     "text": [
      "4326\n"
     ]
    },
    {
     "data": {
      "image/svg+xml": [
       "<svg xmlns=\"http://www.w3.org/2000/svg\" xmlns:xlink=\"http://www.w3.org/1999/xlink\" width=\"100.0\" height=\"100.0\" viewBox=\"-0.14173297397338355 51.508644947783424 0.015544286431837612 0.010131876865457912\" preserveAspectRatio=\"xMinYMin meet\"><g transform=\"matrix(1,0,0,-1,0,103.0274217724323)\"><path fill-rule=\"evenodd\" fill=\"#66cc99\" stroke=\"#555555\" stroke-width=\"0.00031088572863675223\" opacity=\"0.6\" d=\"M -0.12676440185383622,51.51353470631299 L -0.12682676474258628,51.51309543953258 L -0.12695782921930637,51.51266210179211 L -0.1271563312152548,51.51223886611593 L -0.12742035738845336,51.51182980813443 L -0.1277473636139515,51.5114388668473 L -0.1281341995392365,51.51106980670629 L -0.1285771389662432,51.51072618138158 L -0.1290719157657208,51.51041129956044 L -0.12961376497697724,51.510128193106226 L -0.13019746869664006,51.50987958788372 L -0.13081740631449496,51.50966787753087 L -0.13146760861322523,51.50949510042844 L -0.1321418152121655,51.50936292008871 L -0.1328335348035182,51.50927260915135 L -0.13353610760302745,51.509225037139785 L -0.1342427694161436,51.509220662095714 L -0.13494671670540626,51.50925952617184 L -0.1356411720353173,51.50934125522521 L -0.13631944926740797,51.50946506241506 L -0.13697501788047695,51.50962975577074 L -0.13760156579934543,51.509833749657204 L -0.1381930601294556,51.5100750800282 L -0.13874380521450724,51.51035142332085 L -0.13924849745962462,51.510660118810556 L -0.1397022763932044,51.51099819421173 L -0.14010077147625383,51.51136239427863 L -0.14044014420840553,51.51174921213191 L -0.14071712512451762,51.512154923010115 L -0.14092904532443024,51.512575620121574 L -0.14107386223056842,51.5130072522527 L -0.1411501793232365,51.51344566277066 L -0.14115725966109327,51.51388662964551 L -0.14109503305383517,51.51432590610677 L -0.1409640968151365,51.51475926154278 L -0.1407657100856198,51.515182522249155 L -0.1405017817776411,51.515591611633624 L -0.1401748522552473,51.51598258948967 L -0.13978806892329051,51.51635168996028 L -0.13934515595870509,51.51669535782536 L -0.1388503784738076,51.51701028276288 L -0.13830850145562593,51.51729343125254 L -0.13772474387614003,51.517542075814156 L -0.13710472841536664,51.51775382129797 L -0.13645442728207882,51.51792662797321 L -0.13578010465510354,51.51805883119109 L -0.1350882563011271,51.51814915743276 L -0.13438554695268382,51.518196736586646 L -0.13367874605181904,51.51820111033659 L -0.13297466248106082,51.51816223657962 L -0.13228007891312557,51.518080489830716 L -0.1316016864146004,51.517956657610675 L -0.13094601993631153,51.51779193285201 L -0.1303193953143419,51.51758790239661 L -0.12972784839090554,51.51734653169604 L -0.12917707684343577,51.517070145862995 L -0.12867238528374425,51.51676140725691 L -0.1282186341570917,51.5164232898203 L -0.12782019293386893,51.51605905041432 L -0.1274808980446381,51.51567219743005 L -0.12720401596308117,51.51526645697905 L -0.12699221179120357,51.51484573698943 L -0.1268475236476867,51.514414089554 L -0.12677134310394833,51.513975671893725 L -0.12676440185383622,51.51353470631299 z\" /></g></svg>"
      ],
      "text/plain": [
       "<POLYGON ((-0.127 51.514, -0.127 51.513, -0.127 51.513, -0.127 51.512, -0.12...>"
      ]
     },
     "execution_count": 9,
     "metadata": {},
     "output_type": "execute_result"
    }
   ],
   "source": [
    "poly_wgs, epsg_code = io.buffered_point_poly(lng, lat, buffer)\n",
    "print(epsg_code)\n",
    "poly_wgs"
   ]
  },
  {
   "cell_type": "markdown",
   "metadata": {},
   "source": [
    "You can then use this geometry to specify the boundaries to be used for creating a network using the [osm_graph_from_poly](https://cityseer.benchmarkurbanism.com/tools/io#osm-graph-from-poly) function.\n"
   ]
  },
  {
   "cell_type": "code",
   "execution_count": 10,
   "metadata": {},
   "outputs": [
    {
     "name": "stderr",
     "output_type": "stream",
     "text": [
      "INFO:cityseer.tools.io:Converting networkX graph from EPSG code 4326 to EPSG code 32630.\n",
      "INFO:cityseer.tools.io:Processing node x, y coordinates.\n",
      "100%|██████████| 2927/2927 [00:00<00:00, 1018900.14it/s]\n",
      "INFO:cityseer.tools.io:Processing edge geom coordinates, if present.\n",
      "100%|██████████| 3158/3158 [00:00<00:00, 2060291.19it/s]\n",
      "INFO:cityseer.tools.graphs:Generating interpolated edge geometries.\n",
      "100%|██████████| 3158/3158 [00:00<00:00, 124461.93it/s]\n",
      "INFO:cityseer.tools.graphs:Removing filler nodes.\n",
      "100%|██████████| 2927/2927 [00:00<00:00, 31433.57it/s]\n",
      "INFO:cityseer.tools.util:Creating edges STR tree.\n",
      "100%|██████████| 1726/1726 [00:00<00:00, 1858154.18it/s]\n",
      "100%|██████████| 1726/1726 [00:00<00:00, 15150.73it/s]\n",
      "INFO:cityseer.tools.graphs:Removing filler nodes.\n",
      "100%|██████████| 1495/1495 [00:00<00:00, 88211.08it/s]\n",
      "100%|██████████| 1122/1122 [00:00<00:00, 228791.34it/s]\n",
      "INFO:cityseer.tools.graphs:Removing dangling nodes.\n",
      "INFO:cityseer.tools.graphs:Removing filler nodes.\n",
      "100%|██████████| 1318/1318 [00:00<00:00, 1692100.60it/s]\n",
      "INFO:cityseer.tools.util:Creating edges STR tree.\n",
      "100%|██████████| 1074/1074 [00:00<00:00, 1636875.91it/s]\n",
      "INFO:cityseer.tools.graphs:Splitting opposing edges.\n",
      "100%|██████████| 864/864 [00:00<00:00, 314982.93it/s]\n",
      "INFO:cityseer.tools.graphs:Squashing opposing nodes\n",
      "INFO:cityseer.tools.graphs:Merging parallel edges within buffer of 25.\n",
      "100%|██████████| 1074/1074 [00:00<00:00, 301598.99it/s]\n",
      "INFO:cityseer.tools.util:Creating edges STR tree.\n",
      "100%|██████████| 1072/1072 [00:00<00:00, 1565017.02it/s]\n",
      "INFO:cityseer.tools.graphs:Splitting opposing edges.\n",
      "100%|██████████| 864/864 [00:00<00:00, 44139.81it/s]\n",
      "INFO:cityseer.tools.graphs:Squashing opposing nodes\n",
      "INFO:cityseer.tools.graphs:Merging parallel edges within buffer of 25.\n",
      "100%|██████████| 1079/1079 [00:00<00:00, 19471.63it/s]\n",
      "INFO:cityseer.tools.util:Creating edges STR tree.\n",
      "100%|██████████| 1079/1079 [00:00<00:00, 1831507.09it/s]\n",
      "INFO:cityseer.tools.graphs:Splitting opposing edges.\n",
      "100%|██████████| 864/864 [00:00<00:00, 279879.41it/s]\n",
      "INFO:cityseer.tools.graphs:Squashing opposing nodes\n",
      "INFO:cityseer.tools.graphs:Merging parallel edges within buffer of 25.\n",
      "100%|██████████| 1079/1079 [00:00<00:00, 445833.32it/s]\n",
      "INFO:cityseer.tools.util:Creating edges STR tree.\n",
      "100%|██████████| 1079/1079 [00:00<00:00, 1522251.60it/s]\n",
      "INFO:cityseer.tools.graphs:Splitting opposing edges.\n",
      "100%|██████████| 864/864 [00:00<00:00, 122569.12it/s]\n",
      "INFO:cityseer.tools.graphs:Squashing opposing nodes\n",
      "INFO:cityseer.tools.graphs:Merging parallel edges within buffer of 25.\n",
      "100%|██████████| 1079/1079 [00:00<00:00, 417264.80it/s]\n",
      "INFO:cityseer.tools.util:Creating nodes STR tree\n",
      "100%|██████████| 864/864 [00:00<00:00, 211662.79it/s]\n",
      "INFO:cityseer.tools.graphs:Consolidating nodes.\n",
      "100%|██████████| 864/864 [00:00<00:00, 306070.83it/s]\n",
      "INFO:cityseer.tools.graphs:Merging parallel edges within buffer of 25.\n",
      "100%|██████████| 1079/1079 [00:00<00:00, 427270.96it/s]\n",
      "INFO:cityseer.tools.graphs:Removing filler nodes.\n",
      "100%|██████████| 864/864 [00:00<00:00, 951648.81it/s]\n",
      "INFO:cityseer.tools.util:Creating nodes STR tree\n",
      "100%|██████████| 861/861 [00:00<00:00, 210632.59it/s]\n",
      "INFO:cityseer.tools.graphs:Consolidating nodes.\n",
      "100%|██████████| 861/861 [00:00<00:00, 41316.81it/s]\n",
      "INFO:cityseer.tools.graphs:Merging parallel edges within buffer of 25.\n",
      "100%|██████████| 993/993 [00:00<00:00, 90206.92it/s]\n",
      "INFO:cityseer.tools.graphs:Removing filler nodes.\n",
      "100%|██████████| 795/795 [00:00<00:00, 716166.60it/s]\n",
      "INFO:cityseer.tools.util:Creating nodes STR tree\n",
      "100%|██████████| 789/789 [00:00<00:00, 229637.49it/s]\n",
      "INFO:cityseer.tools.graphs:Consolidating nodes.\n",
      "100%|██████████| 789/789 [00:00<00:00, 123957.97it/s]\n",
      "INFO:cityseer.tools.graphs:Merging parallel edges within buffer of 25.\n",
      "100%|██████████| 968/968 [00:00<00:00, 261670.94it/s]\n",
      "INFO:cityseer.tools.graphs:Removing filler nodes.\n",
      "100%|██████████| 788/788 [00:00<00:00, 1150404.30it/s]\n",
      "INFO:cityseer.tools.util:Creating nodes STR tree\n",
      "100%|██████████| 786/786 [00:00<00:00, 233859.90it/s]\n",
      "INFO:cityseer.tools.graphs:Consolidating nodes.\n",
      "100%|██████████| 786/786 [00:00<00:00, 76534.49it/s]\n",
      "INFO:cityseer.tools.graphs:Merging parallel edges within buffer of 25.\n",
      "100%|██████████| 948/948 [00:00<00:00, 385178.75it/s]\n",
      "INFO:cityseer.tools.graphs:Removing filler nodes.\n",
      "100%|██████████| 774/774 [00:00<00:00, 1296482.15it/s]\n",
      "INFO:cityseer.tools.util:Creating nodes STR tree\n",
      "100%|██████████| 773/773 [00:00<00:00, 233975.39it/s]\n",
      "INFO:cityseer.tools.util:Creating edges STR tree.\n",
      "100%|██████████| 945/945 [00:00<00:00, 1820678.59it/s]\n",
      "INFO:cityseer.tools.graphs:Snapping gapped endings.\n",
      "100%|██████████| 773/773 [00:00<00:00, 22185.71it/s]\n",
      "INFO:cityseer.tools.util:Creating edges STR tree.\n",
      "100%|██████████| 977/977 [00:00<00:00, 2074853.17it/s]\n",
      "INFO:cityseer.tools.graphs:Splitting opposing edges.\n",
      "100%|██████████| 773/773 [00:00<00:00, 24828.06it/s]\n",
      "INFO:cityseer.tools.graphs:Merging parallel edges within buffer of 25.\n",
      "100%|██████████| 1107/1107 [00:00<00:00, 510847.68it/s]\n",
      "INFO:cityseer.tools.graphs:Removing dangling nodes.\n",
      "100%|██████████| 846/846 [00:00<00:00, 630935.49it/s]\n",
      "INFO:cityseer.tools.graphs:Removing filler nodes.\n",
      "100%|██████████| 702/702 [00:00<00:00, 44441.78it/s]\n",
      "INFO:cityseer.tools.util:Creating edges STR tree.\n",
      "100%|██████████| 779/779 [00:00<00:00, 1724202.01it/s]\n",
      "INFO:cityseer.tools.graphs:Splitting opposing edges.\n",
      "100%|██████████| 518/518 [00:00<00:00, 18469.73it/s]\n",
      "INFO:cityseer.tools.graphs:Squashing opposing nodes\n",
      "INFO:cityseer.tools.graphs:Merging parallel edges within buffer of 25.\n",
      "100%|██████████| 785/785 [00:00<00:00, 244615.80it/s]\n",
      "INFO:cityseer.tools.util:Creating nodes STR tree\n",
      "100%|██████████| 518/518 [00:00<00:00, 196122.90it/s]\n",
      "INFO:cityseer.tools.graphs:Consolidating nodes.\n",
      "100%|██████████| 518/518 [00:00<00:00, 11410.20it/s]\n",
      "INFO:cityseer.tools.graphs:Merging parallel edges within buffer of 25.\n",
      "100%|██████████| 611/611 [00:00<00:00, 71976.40it/s]\n",
      "INFO:cityseer.tools.util:Creating edges STR tree.\n",
      "100%|██████████| 579/579 [00:00<00:00, 1340972.95it/s]\n",
      "INFO:cityseer.tools.graphs:Splitting opposing edges.\n",
      "100%|██████████| 400/400 [00:00<00:00, 23153.76it/s]\n",
      "INFO:cityseer.tools.graphs:Squashing opposing nodes\n",
      "INFO:cityseer.tools.graphs:Merging parallel edges within buffer of 25.\n",
      "100%|██████████| 579/579 [00:00<00:00, 319161.78it/s]\n",
      "INFO:cityseer.tools.util:Creating nodes STR tree\n",
      "100%|██████████| 400/400 [00:00<00:00, 220636.72it/s]\n",
      "INFO:cityseer.tools.graphs:Consolidating nodes.\n",
      "100%|██████████| 400/400 [00:00<00:00, 13289.94it/s]\n",
      "INFO:cityseer.tools.graphs:Merging parallel edges within buffer of 25.\n",
      "100%|██████████| 524/524 [00:00<00:00, 138733.45it/s]\n",
      "INFO:cityseer.tools.graphs:Removing filler nodes.\n",
      "100%|██████████| 344/344 [00:00<00:00, 228008.94it/s]\n",
      "INFO:cityseer.tools.graphs:Merging parallel edges within buffer of 50.\n",
      "100%|██████████| 503/503 [00:00<00:00, 104333.86it/s]\n",
      "INFO:cityseer.tools.graphs:Ironing edges.\n",
      "100%|██████████| 498/498 [00:00<00:00, 47091.95it/s]\n",
      "INFO:cityseer.tools.graphs:Merging parallel edges within buffer of 1.\n",
      "100%|██████████| 498/498 [00:00<00:00, 394031.95it/s]\n",
      "INFO:cityseer.tools.graphs:Removing dangling nodes.\n",
      "100%|██████████| 331/331 [00:00<00:00, 643930.72it/s]\n",
      "INFO:cityseer.tools.graphs:Removing filler nodes.\n",
      "100%|██████████| 328/328 [00:00<00:00, 338850.18it/s]\n"
     ]
    },
    {
     "name": "stdout",
     "output_type": "stream",
     "text": [
      "MultiGraph with 320 nodes and 487 edges\n"
     ]
    }
   ],
   "source": [
    "G = io.osm_graph_from_poly(poly_wgs)\n",
    "print(G)"
   ]
  },
  {
   "cell_type": "markdown",
   "metadata": {},
   "source": [
    "Set the `projected` parameter to `True` if you would rather use the local UTM projection for the boundary.\n"
   ]
  },
  {
   "cell_type": "code",
   "execution_count": 11,
   "metadata": {},
   "outputs": [
    {
     "name": "stdout",
     "output_type": "stream",
     "text": [
      "32630\n"
     ]
    },
    {
     "data": {
      "image/svg+xml": [
       "<svg xmlns=\"http://www.w3.org/2000/svg\" xmlns:xlink=\"http://www.w3.org/1999/xlink\" width=\"300\" height=\"300\" viewBox=\"698321.2912952345 5710308.649471336 1080.0 1080.0\" preserveAspectRatio=\"xMinYMin meet\"><g transform=\"matrix(1,0,0,-1,0,11421697.298942672)\"><path fill-rule=\"evenodd\" fill=\"#66cc99\" stroke=\"#555555\" stroke-width=\"7.2\" opacity=\"0.6\" d=\"M 699361.2912952345,5710848.649471336 L 699358.8836585706,5710799.640901172 L 699351.6839354361,5710751.104310328 L 699339.7614631006,5710703.507132709 L 699323.2310614901,5710657.307755154 L 699302.2519274086,5710612.951102923 L 699277.0261013857,5710570.8643548265 L 699247.7965219158,5710531.452829254 L 699214.8446858277,5710495.096080743 L 699178.4879373163,5710462.144244655 L 699139.0764117442,5710432.914665185 L 699096.9896636475,5710407.688839162 L 699052.633011417,5710386.709705081 L 699006.4336338617,5710370.17930347 L 698958.8364562425,5710358.256831135 L 698910.2998653993,5710351.057108 L 698861.2912952345,5710348.649471336 L 698812.2827250697,5710351.057108 L 698763.7461342264,5710358.256831135 L 698716.1489566072,5710370.17930347 L 698669.9495790519,5710386.709705081 L 698625.5929268214,5710407.688839162 L 698583.5061787247,5710432.914665185 L 698544.0946531526,5710462.144244655 L 698507.7379046412,5710495.096080743 L 698474.7860685531,5710531.452829254 L 698445.5564890832,5710570.8643548265 L 698420.3306630603,5710612.951102923 L 698399.3515289788,5710657.307755154 L 698382.8211273684,5710703.507132709 L 698370.8986550329,5710751.104310328 L 698363.6989318983,5710799.640901172 L 698361.2912952345,5710848.649471336 L 698363.6989318983,5710897.6580415005 L 698370.8986550329,5710946.194632344 L 698382.8211273684,5710993.791809963 L 698399.3515289788,5711039.991187518 L 698420.3306630603,5711084.347839749 L 698445.5564890832,5711126.434587846 L 698474.7860685531,5711165.846113418 L 698507.7379046412,5711202.202861929 L 698544.0946531526,5711235.154698017 L 698583.5061787247,5711264.384277487 L 698625.5929268214,5711289.61010351 L 698669.9495790519,5711310.589237591 L 698716.1489566072,5711327.119639202 L 698763.7461342264,5711339.042111537 L 698812.2827250697,5711346.241834672 L 698861.2912952345,5711348.649471336 L 698910.2998653993,5711346.241834672 L 698958.8364562425,5711339.042111537 L 699006.4336338617,5711327.119639202 L 699052.633011417,5711310.589237591 L 699096.9896636475,5711289.61010351 L 699139.0764117442,5711264.384277487 L 699178.4879373163,5711235.154698017 L 699214.8446858277,5711202.202861929 L 699247.7965219158,5711165.846113418 L 699277.0261013857,5711126.434587846 L 699302.2519274086,5711084.347839749 L 699323.2310614901,5711039.991187518 L 699339.7614631006,5710993.791809963 L 699351.6839354361,5710946.194632344 L 699358.8836585706,5710897.6580415005 L 699361.2912952345,5710848.649471336 z\" /></g></svg>"
      ],
      "text/plain": [
       "<POLYGON ((699361.291 5710848.649, 699358.884 5710799.641, 699351.684 571075...>"
      ]
     },
     "execution_count": 11,
     "metadata": {},
     "output_type": "execute_result"
    }
   ],
   "source": [
    "poly_utm, epsg_code = io.buffered_point_poly(lng, lat, buffer, projected=True)\n",
    "print(epsg_code)\n",
    "poly_utm"
   ]
  },
  {
   "cell_type": "markdown",
   "metadata": {},
   "source": [
    "In this case, remember to set the `poly_crs` parameter to the appropriate UTM CRS if using the resultant geometry as a parameter for the [osm_graph_from_poly](https://cityseer.benchmarkurbanism.com/tools/io#osm-graph-from-poly) function.\n"
   ]
  },
  {
   "cell_type": "code",
   "execution_count": 12,
   "metadata": {},
   "outputs": [
    {
     "name": "stderr",
     "output_type": "stream",
     "text": [
      "INFO:cityseer.tools.io:Converting networkX graph from EPSG code 4326 to EPSG code 32630.\n",
      "INFO:cityseer.tools.io:Processing node x, y coordinates.\n",
      "100%|██████████| 2927/2927 [00:00<00:00, 939665.35it/s]\n",
      "INFO:cityseer.tools.io:Processing edge geom coordinates, if present.\n",
      "100%|██████████| 3158/3158 [00:00<00:00, 2344356.11it/s]\n",
      "INFO:cityseer.tools.graphs:Generating interpolated edge geometries.\n",
      "100%|██████████| 3158/3158 [00:00<00:00, 119706.21it/s]\n",
      "INFO:cityseer.tools.graphs:Removing filler nodes.\n",
      "100%|██████████| 2927/2927 [00:00<00:00, 31357.14it/s]\n",
      "INFO:cityseer.tools.util:Creating edges STR tree.\n",
      "100%|██████████| 1726/1726 [00:00<00:00, 1586189.46it/s]\n",
      "100%|██████████| 1726/1726 [00:00<00:00, 14862.67it/s]\n",
      "INFO:cityseer.tools.graphs:Removing filler nodes.\n",
      "100%|██████████| 1495/1495 [00:00<00:00, 85605.05it/s]\n",
      "100%|██████████| 1122/1122 [00:00<00:00, 218843.43it/s]\n",
      "INFO:cityseer.tools.graphs:Removing dangling nodes.\n",
      "INFO:cityseer.tools.graphs:Removing filler nodes.\n",
      "100%|██████████| 1318/1318 [00:00<00:00, 1683341.25it/s]\n",
      "INFO:cityseer.tools.util:Creating edges STR tree.\n",
      "100%|██████████| 1074/1074 [00:00<00:00, 1685884.17it/s]\n",
      "INFO:cityseer.tools.graphs:Splitting opposing edges.\n",
      "100%|██████████| 864/864 [00:00<00:00, 303050.56it/s]\n",
      "INFO:cityseer.tools.graphs:Squashing opposing nodes\n",
      "INFO:cityseer.tools.graphs:Merging parallel edges within buffer of 25.\n",
      "100%|██████████| 1074/1074 [00:00<00:00, 332301.75it/s]\n",
      "INFO:cityseer.tools.util:Creating edges STR tree.\n",
      "100%|██████████| 1072/1072 [00:00<00:00, 1768801.69it/s]\n",
      "INFO:cityseer.tools.graphs:Splitting opposing edges.\n",
      "100%|██████████| 864/864 [00:00<00:00, 43765.06it/s]\n",
      "INFO:cityseer.tools.graphs:Squashing opposing nodes\n",
      "INFO:cityseer.tools.graphs:Merging parallel edges within buffer of 25.\n",
      "100%|██████████| 1079/1079 [00:00<00:00, 457229.14it/s]\n",
      "INFO:cityseer.tools.util:Creating edges STR tree.\n",
      "100%|██████████| 1079/1079 [00:00<00:00, 1586835.21it/s]\n",
      "INFO:cityseer.tools.graphs:Splitting opposing edges.\n",
      "100%|██████████| 864/864 [00:00<00:00, 264458.78it/s]\n",
      "INFO:cityseer.tools.graphs:Squashing opposing nodes\n",
      "INFO:cityseer.tools.graphs:Merging parallel edges within buffer of 25.\n",
      "100%|██████████| 1079/1079 [00:00<00:00, 461283.66it/s]\n",
      "INFO:cityseer.tools.util:Creating edges STR tree.\n",
      "100%|██████████| 1079/1079 [00:00<00:00, 1676168.15it/s]\n",
      "INFO:cityseer.tools.graphs:Splitting opposing edges.\n",
      "100%|██████████| 864/864 [00:00<00:00, 116224.46it/s]\n",
      "INFO:cityseer.tools.graphs:Squashing opposing nodes\n",
      "INFO:cityseer.tools.graphs:Merging parallel edges within buffer of 25.\n",
      "100%|██████████| 1079/1079 [00:00<00:00, 444257.78it/s]\n",
      "INFO:cityseer.tools.util:Creating nodes STR tree\n",
      "100%|██████████| 864/864 [00:00<00:00, 205318.90it/s]\n",
      "INFO:cityseer.tools.graphs:Consolidating nodes.\n",
      "100%|██████████| 864/864 [00:00<00:00, 335793.06it/s]\n",
      "INFO:cityseer.tools.graphs:Merging parallel edges within buffer of 25.\n",
      "100%|██████████| 1079/1079 [00:00<00:00, 524288.00it/s]\n",
      "INFO:cityseer.tools.graphs:Removing filler nodes.\n",
      "100%|██████████| 864/864 [00:00<00:00, 1043443.32it/s]\n",
      "INFO:cityseer.tools.util:Creating nodes STR tree\n",
      "100%|██████████| 861/861 [00:00<00:00, 260104.85it/s]\n",
      "INFO:cityseer.tools.graphs:Consolidating nodes.\n",
      "100%|██████████| 861/861 [00:00<00:00, 42154.55it/s]\n",
      "INFO:cityseer.tools.graphs:Merging parallel edges within buffer of 25.\n",
      "100%|██████████| 993/993 [00:00<00:00, 86831.17it/s]\n",
      "INFO:cityseer.tools.graphs:Removing filler nodes.\n",
      "100%|██████████| 795/795 [00:00<00:00, 644093.43it/s]\n",
      "INFO:cityseer.tools.util:Creating nodes STR tree\n",
      "100%|██████████| 789/789 [00:00<00:00, 222071.26it/s]\n",
      "INFO:cityseer.tools.graphs:Consolidating nodes.\n",
      "100%|██████████| 789/789 [00:00<00:00, 111162.44it/s]\n",
      "INFO:cityseer.tools.graphs:Merging parallel edges within buffer of 25.\n",
      "100%|██████████| 968/968 [00:00<00:00, 231028.01it/s]\n",
      "INFO:cityseer.tools.graphs:Removing filler nodes.\n",
      "100%|██████████| 788/788 [00:00<00:00, 1158875.02it/s]\n",
      "INFO:cityseer.tools.util:Creating nodes STR tree\n",
      "100%|██████████| 786/786 [00:00<00:00, 184328.93it/s]\n",
      "INFO:cityseer.tools.graphs:Consolidating nodes.\n",
      "100%|██████████| 786/786 [00:00<00:00, 78506.49it/s]\n",
      "INFO:cityseer.tools.graphs:Merging parallel edges within buffer of 25.\n",
      "100%|██████████| 948/948 [00:00<00:00, 303758.61it/s]\n",
      "INFO:cityseer.tools.graphs:Removing filler nodes.\n",
      "100%|██████████| 774/774 [00:00<00:00, 1355486.97it/s]\n",
      "INFO:cityseer.tools.util:Creating nodes STR tree\n",
      "100%|██████████| 773/773 [00:00<00:00, 34084.26it/s]\n",
      "INFO:cityseer.tools.util:Creating edges STR tree.\n",
      "100%|██████████| 945/945 [00:00<00:00, 1546475.72it/s]\n",
      "INFO:cityseer.tools.graphs:Snapping gapped endings.\n",
      "100%|██████████| 773/773 [00:00<00:00, 23715.35it/s]\n",
      "INFO:cityseer.tools.util:Creating edges STR tree.\n",
      "100%|██████████| 977/977 [00:00<00:00, 2096079.29it/s]\n",
      "INFO:cityseer.tools.graphs:Splitting opposing edges.\n",
      "100%|██████████| 773/773 [00:00<00:00, 25094.99it/s]\n",
      "INFO:cityseer.tools.graphs:Merging parallel edges within buffer of 25.\n",
      "100%|██████████| 1107/1107 [00:00<00:00, 466924.23it/s]\n",
      "INFO:cityseer.tools.graphs:Removing dangling nodes.\n",
      "100%|██████████| 846/846 [00:00<00:00, 520978.00it/s]\n",
      "INFO:cityseer.tools.graphs:Removing filler nodes.\n",
      "100%|██████████| 702/702 [00:00<00:00, 47031.41it/s]\n",
      "INFO:cityseer.tools.util:Creating edges STR tree.\n",
      "100%|██████████| 779/779 [00:00<00:00, 1331986.47it/s]\n",
      "INFO:cityseer.tools.graphs:Splitting opposing edges.\n",
      "100%|██████████| 518/518 [00:00<00:00, 18565.53it/s]\n",
      "INFO:cityseer.tools.graphs:Squashing opposing nodes\n",
      "INFO:cityseer.tools.graphs:Merging parallel edges within buffer of 25.\n",
      "100%|██████████| 785/785 [00:00<00:00, 268558.62it/s]\n",
      "INFO:cityseer.tools.util:Creating nodes STR tree\n",
      "100%|██████████| 518/518 [00:00<00:00, 194021.21it/s]\n",
      "INFO:cityseer.tools.graphs:Consolidating nodes.\n",
      "100%|██████████| 518/518 [00:00<00:00, 11321.90it/s]\n",
      "INFO:cityseer.tools.graphs:Merging parallel edges within buffer of 25.\n",
      "100%|██████████| 611/611 [00:00<00:00, 72598.29it/s]\n",
      "INFO:cityseer.tools.util:Creating edges STR tree.\n",
      "100%|██████████| 579/579 [00:00<00:00, 1331415.58it/s]\n",
      "INFO:cityseer.tools.graphs:Splitting opposing edges.\n",
      "100%|██████████| 400/400 [00:00<00:00, 23959.24it/s]\n",
      "INFO:cityseer.tools.graphs:Squashing opposing nodes\n",
      "INFO:cityseer.tools.graphs:Merging parallel edges within buffer of 25.\n",
      "100%|██████████| 579/579 [00:00<00:00, 409735.45it/s]\n",
      "INFO:cityseer.tools.util:Creating nodes STR tree\n",
      "100%|██████████| 400/400 [00:00<00:00, 231889.65it/s]\n",
      "INFO:cityseer.tools.graphs:Consolidating nodes.\n",
      "100%|██████████| 400/400 [00:00<00:00, 13292.46it/s]\n",
      "INFO:cityseer.tools.graphs:Merging parallel edges within buffer of 25.\n",
      "100%|██████████| 524/524 [00:00<00:00, 144640.69it/s]\n",
      "INFO:cityseer.tools.graphs:Removing filler nodes.\n",
      "100%|██████████| 344/344 [00:00<00:00, 236880.74it/s]\n",
      "INFO:cityseer.tools.graphs:Merging parallel edges within buffer of 50.\n",
      "100%|██████████| 503/503 [00:00<00:00, 121759.96it/s]\n",
      "INFO:cityseer.tools.graphs:Ironing edges.\n",
      "100%|██████████| 498/498 [00:00<00:00, 46821.71it/s]\n",
      "INFO:cityseer.tools.graphs:Merging parallel edges within buffer of 1.\n",
      "100%|██████████| 498/498 [00:00<00:00, 418925.67it/s]\n",
      "INFO:cityseer.tools.graphs:Removing dangling nodes.\n",
      "100%|██████████| 331/331 [00:00<00:00, 858043.65it/s]\n",
      "INFO:cityseer.tools.graphs:Removing filler nodes.\n",
      "100%|██████████| 328/328 [00:00<00:00, 323777.76it/s]\n"
     ]
    },
    {
     "name": "stdout",
     "output_type": "stream",
     "text": [
      "MultiGraph with 320 nodes and 487 edges\n"
     ]
    }
   ],
   "source": [
    "G_utm = io.osm_graph_from_poly(poly_utm, poly_crs_code=epsg_code)\n",
    "print(G_utm)"
   ]
  }
 ],
 "metadata": {
  "kernelspec": {
   "display_name": ".venv",
   "language": "python",
   "name": "python3"
  },
  "language_info": {
   "codemirror_mode": {
    "name": "ipython",
    "version": 3
   },
   "file_extension": ".py",
   "mimetype": "text/x-python",
   "name": "python",
   "nbconvert_exporter": "python",
   "pygments_lexer": "ipython3",
   "version": "3.11.11"
  }
 },
 "nbformat": 4,
 "nbformat_minor": 2
}
