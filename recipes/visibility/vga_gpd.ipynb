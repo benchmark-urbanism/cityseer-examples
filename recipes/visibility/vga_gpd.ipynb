{
 "cells": [
  {
   "cell_type": "markdown",
   "id": "f2b2c465",
   "metadata": {},
   "source": [
    "# VGA from GeoPandas data\n",
    "\n",
    "Generate a visual graph analysis (VGA) from GeoPandas data (or a file opened with GeoPandas).\n"
   ]
  },
  {
   "cell_type": "code",
   "execution_count": 1,
   "id": "a46c909a",
   "metadata": {},
   "outputs": [],
   "source": [
    "import geopandas as gpd\n",
    "from cityseer.metrics import visibility\n"
   ]
  },
  {
   "cell_type": "markdown",
   "id": "2ea4df1c",
   "metadata": {},
   "source": [
    "Open a GeoPandas dataset.\n"
   ]
  },
  {
   "cell_type": "code",
   "execution_count": 2,
   "id": "e519f84d",
   "metadata": {},
   "outputs": [
    {
     "data": {
      "text/html": [
       "<div>\n",
       "<style scoped>\n",
       "    .dataframe tbody tr th:only-of-type {\n",
       "        vertical-align: middle;\n",
       "    }\n",
       "\n",
       "    .dataframe tbody tr th {\n",
       "        vertical-align: top;\n",
       "    }\n",
       "\n",
       "    .dataframe thead th {\n",
       "        text-align: right;\n",
       "    }\n",
       "</style>\n",
       "<table border=\"1\" class=\"dataframe\">\n",
       "  <thead>\n",
       "    <tr style=\"text-align: right;\">\n",
       "      <th></th>\n",
       "      <th>mean_height</th>\n",
       "      <th>area</th>\n",
       "      <th>perimeter</th>\n",
       "      <th>compactness</th>\n",
       "      <th>orientation</th>\n",
       "      <th>volume</th>\n",
       "      <th>floor_area_ratio</th>\n",
       "      <th>form_factor</th>\n",
       "      <th>corners</th>\n",
       "      <th>shape_index</th>\n",
       "      <th>fractal_dimension</th>\n",
       "      <th>geometry</th>\n",
       "    </tr>\n",
       "  </thead>\n",
       "  <tbody>\n",
       "    <tr>\n",
       "      <th>0</th>\n",
       "      <td>NaN</td>\n",
       "      <td>187.418714</td>\n",
       "      <td>58.669276</td>\n",
       "      <td>0.491102</td>\n",
       "      <td>40.235999</td>\n",
       "      <td>NaN</td>\n",
       "      <td>NaN</td>\n",
       "      <td>NaN</td>\n",
       "      <td>4</td>\n",
       "      <td>0.700787</td>\n",
       "      <td>1.026350</td>\n",
       "      <td>POLYGON ((448688.642 4492911, 448678.351 44928...</td>\n",
       "    </tr>\n",
       "    <tr>\n",
       "      <th>1</th>\n",
       "      <td>7.0</td>\n",
       "      <td>39.082821</td>\n",
       "      <td>26.992208</td>\n",
       "      <td>0.472874</td>\n",
       "      <td>10.252128</td>\n",
       "      <td>273.579749</td>\n",
       "      <td>78.165643</td>\n",
       "      <td>5.410857</td>\n",
       "      <td>4</td>\n",
       "      <td>0.687658</td>\n",
       "      <td>1.041691</td>\n",
       "      <td>POLYGON ((440862.665 4482604.017, 440862.64 44...</td>\n",
       "    </tr>\n",
       "    <tr>\n",
       "      <th>2</th>\n",
       "      <td>7.0</td>\n",
       "      <td>39.373412</td>\n",
       "      <td>27.050303</td>\n",
       "      <td>0.475086</td>\n",
       "      <td>10.252128</td>\n",
       "      <td>275.613883</td>\n",
       "      <td>78.746824</td>\n",
       "      <td>5.400665</td>\n",
       "      <td>4</td>\n",
       "      <td>0.689265</td>\n",
       "      <td>1.040760</td>\n",
       "      <td>POLYGON ((440862.681 4482608.269, 440862.665 4...</td>\n",
       "    </tr>\n",
       "    <tr>\n",
       "      <th>3</th>\n",
       "      <td>7.5</td>\n",
       "      <td>37.933979</td>\n",
       "      <td>26.739878</td>\n",
       "      <td>0.464266</td>\n",
       "      <td>10.252129</td>\n",
       "      <td>284.504846</td>\n",
       "      <td>75.867959</td>\n",
       "      <td>5.513124</td>\n",
       "      <td>4</td>\n",
       "      <td>0.681371</td>\n",
       "      <td>1.045072</td>\n",
       "      <td>POLYGON ((440862.705 4482612.365, 440862.681 4...</td>\n",
       "    </tr>\n",
       "    <tr>\n",
       "      <th>4</th>\n",
       "      <td>7.0</td>\n",
       "      <td>39.013701</td>\n",
       "      <td>26.972641</td>\n",
       "      <td>0.472468</td>\n",
       "      <td>10.183618</td>\n",
       "      <td>273.095907</td>\n",
       "      <td>78.027402</td>\n",
       "      <td>5.412350</td>\n",
       "      <td>4</td>\n",
       "      <td>0.687363</td>\n",
       "      <td>1.041798</td>\n",
       "      <td>POLYGON ((440880.29 4482607.963, 440880.274 44...</td>\n",
       "    </tr>\n",
       "  </tbody>\n",
       "</table>\n",
       "</div>"
      ],
      "text/plain": [
       "   mean_height        area  perimeter  compactness  orientation      volume  \\\n",
       "0          NaN  187.418714  58.669276     0.491102    40.235999         NaN   \n",
       "1          7.0   39.082821  26.992208     0.472874    10.252128  273.579749   \n",
       "2          7.0   39.373412  27.050303     0.475086    10.252128  275.613883   \n",
       "3          7.5   37.933979  26.739878     0.464266    10.252129  284.504846   \n",
       "4          7.0   39.013701  26.972641     0.472468    10.183618  273.095907   \n",
       "\n",
       "   floor_area_ratio  form_factor  corners  shape_index  fractal_dimension  \\\n",
       "0               NaN          NaN        4     0.700787           1.026350   \n",
       "1         78.165643     5.410857        4     0.687658           1.041691   \n",
       "2         78.746824     5.400665        4     0.689265           1.040760   \n",
       "3         75.867959     5.513124        4     0.681371           1.045072   \n",
       "4         78.027402     5.412350        4     0.687363           1.041798   \n",
       "\n",
       "                                            geometry  \n",
       "0  POLYGON ((448688.642 4492911, 448678.351 44928...  \n",
       "1  POLYGON ((440862.665 4482604.017, 440862.64 44...  \n",
       "2  POLYGON ((440862.681 4482608.269, 440862.665 4...  \n",
       "3  POLYGON ((440862.705 4482612.365, 440862.681 4...  \n",
       "4  POLYGON ((440880.29 4482607.963, 440880.274 44...  "
      ]
     },
     "execution_count": 2,
     "metadata": {},
     "output_type": "execute_result"
    }
   ],
   "source": [
    "bldgs_gdf = gpd.read_file(\"data/madrid_buildings/madrid_bldgs.gpkg\")\n",
    "bldgs_gdf.head()"
   ]
  },
  {
   "cell_type": "code",
   "execution_count": 3,
   "id": "1bdfa7fc",
   "metadata": {},
   "outputs": [
    {
     "data": {
      "text/plain": [
       "<Projected CRS: EPSG:25830>\n",
       "Name: ETRS89 / UTM zone 30N\n",
       "Axis Info [cartesian]:\n",
       "- E[east]: Easting (metre)\n",
       "- N[north]: Northing (metre)\n",
       "Area of Use:\n",
       "- name: Europe between 6°W and 0°W: Faroe Islands offshore; Ireland - offshore; Jan Mayen - offshore; Norway including Svalbard - offshore; Spain - mainland - onshore and offshore.\n",
       "- bounds: (-6.0, 35.26, 0.01, 80.49)\n",
       "Coordinate Operation:\n",
       "- name: UTM zone 30N\n",
       "- method: Transverse Mercator\n",
       "Datum: European Terrestrial Reference System 1989 ensemble\n",
       "- Ellipsoid: GRS 1980\n",
       "- Prime Meridian: Greenwich"
      ]
     },
     "execution_count": 3,
     "metadata": {},
     "output_type": "execute_result"
    }
   ],
   "source": [
    "bldgs_gdf.crs"
   ]
  },
  {
   "cell_type": "markdown",
   "id": "9e619002",
   "metadata": {},
   "source": [
    "Use the visibility module to create a VGA from GeoPandas data. The VGA will be generated based on the GeoPandas data provided to the `visibility_graph` method.\n",
    "\n",
    "Pay particular attention to:\n",
    "\n",
    "- The `bounds` parameter, which defines the geographical area in the same CRS as your dataset. The order is Left, Bottom, Right, Top.\n",
    "- The `out_path` parameter, which specifies where to save the output files. The filepath must exist. The extension of the output file will be `.tif` and the file will be saved in GeoTIFF format, which can be opened in QGIS.\n",
    "- The `from_crs_code` parameter, which specifies the coordinate reference system (CRS) to use for the input data. This should match the CRS of your GeoPandas dataset. If you are unsure, you can check the CRS of your GeoDataFrame using `.crs`.\n",
    "- The `to_crs_code` parameter, which specifies the coordinate reference system (CRS) to use for the output. The default is the local UTM, but you can change it to any valid CRS code.\n",
    "- The `view_distance` and `resolution` parameters, which control the analysis granularity.\n",
    "\n",
    "There is a performance trade-off for the bounds, view_distance, and resolution. A larger view_distance or higher resolution will result in a more detailed graph but may take longer to compute and require more memory.\n"
   ]
  },
  {
   "cell_type": "code",
   "execution_count": 4,
   "id": "08d04c8d",
   "metadata": {},
   "outputs": [
    {
     "name": "stderr",
     "output_type": "stream",
     "text": [
      "INFO:cityseer.metrics.visibility:Preparing buildings raster.\n",
      "INFO:cityseer.metrics.visibility:Running visibility.\n",
      "100%|██████████| 420760/420760 [01:50<00:00, 3814.15it/s]\n"
     ]
    }
   ],
   "source": [
    "visibility.visibility_graph(\n",
    "    bldgs_gdf,\n",
    "    bounds=(439658, 4473632, 440914, 4474972),\n",
    "    out_path=\"recipes/visibility/images/madrid_vis\",\n",
    "    from_crs_code=25830,  # set geopandas CRS\n",
    "    to_crs_code=25830,  # set output CRS\n",
    "    view_distance=150,  # can use a larger view distance - but slower\n",
    "    resolution=2,  # can use a higher resolution - but slower\n",
    ")"
   ]
  },
  {
   "cell_type": "markdown",
   "id": "6694b768",
   "metadata": {},
   "source": [
    "The output will generate three files:\n",
    "\n",
    "- A `density` measure - the number of visible pixels.\n",
    "- A `farness` measure - the summed distance to visible pixels - favours farther views (up to `view_distance`).\n",
    "- A `harmonic` closeness measure - the summed inverse of the distance to visible pixels - favours close adjacency to open spaces.\n"
   ]
  },
  {
   "cell_type": "markdown",
   "id": "7a7033a3",
   "metadata": {},
   "source": [
    "<img src=\"images/madrid_farness_150_1.png\" style=\"width:100%;\">\n"
   ]
  }
 ],
 "metadata": {
  "kernelspec": {
   "display_name": ".venv",
   "language": "python",
   "name": "python3"
  },
  "language_info": {
   "codemirror_mode": {
    "name": "ipython",
    "version": 3
   },
   "file_extension": ".py",
   "mimetype": "text/x-python",
   "name": "python",
   "nbconvert_exporter": "python",
   "pygments_lexer": "ipython3",
   "version": "3.12.9"
  }
 },
 "nbformat": 4,
 "nbformat_minor": 5
}
