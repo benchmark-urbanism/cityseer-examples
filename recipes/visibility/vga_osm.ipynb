{
 "cells": [
  {
   "cell_type": "markdown",
   "id": "f2b2c465",
   "metadata": {},
   "source": [
    "# VGA from OSM data\n",
    "\n",
    "Generate a visual graph analysis (VGA) from OpenStreetMap (OSM) data.\n"
   ]
  },
  {
   "cell_type": "code",
   "execution_count": 1,
   "id": "a46c909a",
   "metadata": {},
   "outputs": [],
   "source": [
    "from cityseer.metrics import visibility\n"
   ]
  },
  {
   "cell_type": "markdown",
   "id": "9e619002",
   "metadata": {},
   "source": [
    "Use the visibility module to create a VGA from OSM data. The VGA will be generated based on the OSM data provided to the `visibility_graph_from_osm` method.\n",
    "\n",
    "Pay particular attention to:\n",
    "\n",
    "- The `bounds_wgs` parameter, which defines the geographical area in longitude and latitude to analyze. The order is Left, Bottom, Right, Top.\n",
    "- The `out_path` parameter, which specifies where to save the output files. The filepath must exist. The extension of the output file will be `.tif` and the file will be saved in GeoTIFF format, which can be opened in QGIS.\n",
    "- The `to_crs_code` parameter, which specifies the coordinate reference system (CRS) to use for the output. The default is the local UTM, but you can change it to any valid CRS code.\n",
    "- The `view_distance` and `resolution` parameters, which control the analysis granularity.\n",
    "\n",
    "There is a performance trade-off for the bounds, view_distance, and resolution. A larger view_distance or higher resolution will result in a more detailed graph but may take longer to compute and require more memory.\n"
   ]
  },
  {
   "cell_type": "code",
   "execution_count": 2,
   "id": "08d04c8d",
   "metadata": {},
   "outputs": [
    {
     "name": "stderr",
     "output_type": "stream",
     "text": [
      "INFO:cityseer.metrics.visibility:Preparing buildings raster.\n",
      "INFO:cityseer.metrics.visibility:Running visibility.\n",
      "100%|██████████| 690999/690999 [02:40<00:00, 4305.88it/s]\n"
     ]
    }
   ],
   "source": [
    "visibility.visibility_graph_from_osm(\n",
    "    bounds_wgs=(18.41077, -33.93154, 18.42755, -33.91626),\n",
    "    out_path=\"recipes/visibility/images/ct_vis\",\n",
    "    to_crs_code=None,  # defaults to local UTM\n",
    "    view_distance=100,  # can use a larger view distance - but slower\n",
    "    resolution=2,  # set resolution - e.g. 2m\n",
    ")"
   ]
  },
  {
   "cell_type": "markdown",
   "id": "6694b768",
   "metadata": {},
   "source": [
    "The output will generate three files:\n",
    "\n",
    "- A `density` measure - the number of visible pixels.\n",
    "- A `farness` measure - the summed distance to visible pixels - favours farther views (up to `view_distance`).\n",
    "- A `harmonic` closeness measure - the summed inverse of the distance to visible pixels - favours close adjacency to open spaces.\n"
   ]
  },
  {
   "cell_type": "markdown",
   "id": "7a7033a3",
   "metadata": {},
   "source": [
    "<img src=\"images/ct_farness_100_2.png\" style=\"width:100%;\">\n"
   ]
  }
 ],
 "metadata": {
  "kernelspec": {
   "display_name": ".venv",
   "language": "python",
   "name": "python3"
  },
  "language_info": {
   "codemirror_mode": {
    "name": "ipython",
    "version": 3
   },
   "file_extension": ".py",
   "mimetype": "text/x-python",
   "name": "python",
   "nbconvert_exporter": "python",
   "pygments_lexer": "ipython3",
   "version": "3.12.9"
  }
 },
 "nbformat": 4,
 "nbformat_minor": 5
}
