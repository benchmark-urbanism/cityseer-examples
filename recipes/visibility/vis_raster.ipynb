{
 "cells": [
  {
   "cell_type": "markdown",
   "id": "d7358396",
   "metadata": {},
   "source": [
    "# Visibility from raster data\n",
    "\n",
    "Generate a visibility analysis from raster data. This approach allows for blending building footprints with Digital Elevation Model (DEM) data to take elevation into account.\n"
   ]
  },
  {
   "cell_type": "code",
   "execution_count": 1,
   "id": "c8b87d07",
   "metadata": {},
   "outputs": [],
   "source": [
    "from cityseer.metrics import visibility\n"
   ]
  },
  {
   "cell_type": "markdown",
   "id": "6a6199ec",
   "metadata": {},
   "source": [
    "Use the visibility module to create a visibility analysis from raster data. The visibility will be generated based on the raster data provided to the `visibility_from_raster` method.\n",
    "\n",
    "Pay particular attention to:\n",
    "\n",
    "- The `input_path` parameter, which specifies the path to the input raster file. The file must exist and be in a format that can be read by `rasterio`, such as GeoTIFF.\n",
    "- The `out_path` parameter, which specifies where to save the output files. The filepath must exist. The extension of the output file will be `.tif` and the file will be saved in GeoTIFF format, which can be opened in QGIS.\n",
    "\n",
    "There is a performance trade-off for the view_distance and input file resolution. A larger view_distance or higher resolution will result in a more detailed graph but may take longer to compute and require more memory.\n"
   ]
  },
  {
   "cell_type": "code",
   "execution_count": 6,
   "id": "f833696b",
   "metadata": {},
   "outputs": [
    {
     "name": "stderr",
     "output_type": "stream",
     "text": [
      "INFO:cityseer.metrics.visibility:Running visibility graph from raster file: /Users/gareth/dev/cityseer-examples/recipes/visibility/images/madrid_rast_ht.tif.\n",
      "INFO:cityseer.metrics.visibility:Raster resolution: 2.0 meters per pixel\n",
      "100%|██████████| 638775/638775 [00:40<00:00, 15663.54it/s]\n"
     ]
    }
   ],
   "source": [
    "visibility.visibility_from_raster(\n",
    "    \"recipes/visibility/images/madrid_rast_ht.tif\",\n",
    "    \"recipes/visibility/images/madrid_vis_from_rast\",\n",
    "    view_distance=100,\n",
    "    observer_height=1.5,\n",
    ")  # defaults to local UTM"
   ]
  },
  {
   "cell_type": "markdown",
   "id": "59521ffa",
   "metadata": {},
   "source": [
    "Visualised as `harmonic` on a dataset of building rasters including building rooftop heights. (No DEM data used in this example.)\n"
   ]
  },
  {
   "cell_type": "markdown",
   "id": "7fe47aed",
   "metadata": {},
   "source": [
    "<img src=\"images/madrid_harmonic_100_2.png\" style=\"width:100%;\">\n"
   ]
  }
 ],
 "metadata": {
  "kernelspec": {
   "display_name": "cityseer-examples",
   "language": "python",
   "name": "python3"
  },
  "language_info": {
   "codemirror_mode": {
    "name": "ipython",
    "version": 3
   },
   "file_extension": ".py",
   "mimetype": "text/x-python",
   "name": "python",
   "nbconvert_exporter": "python",
   "pygments_lexer": "ipython3",
   "version": "3.11.11"
  }
 },
 "nbformat": 4,
 "nbformat_minor": 5
}
